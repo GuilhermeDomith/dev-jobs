{
 "cells": [
  {
   "cell_type": "code",
   "execution_count": 57,
   "metadata": {
    "collapsed": true
   },
   "outputs": [],
   "source": [
    "from sklearn.metrics.pairwise import cosine_similarity\n",
    "from sklearn.feature_extraction.text import TfidfVectorizer\n",
    "from sklearn.externals import joblib\n",
    "from string import punctuation, digits\n",
    "import nltk, pandas as pd, re"
   ]
  },
  {
   "cell_type": "code",
   "execution_count": 562,
   "metadata": {
    "collapsed": true
   },
   "outputs": [],
   "source": [
    "vectorizer_curso = None\n",
    "stopwords = None\n",
    "tags = None\n",
    "#stemmer = None\n",
    "df_cursos = None\n",
    "df_cursos_tfidf = None\n",
    "\n",
    "vectorizer_tags = None\n",
    "df_tfidf_tags = None"
   ]
  },
  {
   "cell_type": "code",
   "execution_count": 572,
   "metadata": {},
   "outputs": [],
   "source": [
    "def _processar_texto(texto):\n",
    "    \n",
    "    texto = ' '.join([w for w in nltk.word_tokenize(texto) \n",
    "                          if (w not in punctuation and w not in stopwords) \n",
    "                            and not (re.match('.*[\\d_].*', w) and w not in tags)\n",
    "                     ])\n",
    "    return texto\n",
    "\n",
    "def _aplicar_tfidf(textos):\n",
    "    matrix_tfidf = vectorizer_curso.transform(textos)\n",
    "    return tfidf_to_dataframe(matrix_tfidf, vectorizer_curso)\n",
    "    \n",
    "\n",
    "def _tfidf_to_dataframe(tfidf, vectorizer):\n",
    "    return pd.DataFrame(\n",
    "        tfidf.todense(),\n",
    "        columns=vectorizer.get_feature_names()\n",
    "    )\n",
    "\n",
    "def _get_vectorizer():\n",
    "    return TfidfVectorizer(\n",
    "        lowercase=True,\n",
    "        use_idf=True,\n",
    "        max_df=1.0,\n",
    "        #stop_words = 'english'\n",
    "    )\n",
    "    \n",
    "def _get_vectorizer_tags():\n",
    "    return TfidfVectorizer(\n",
    "        lowercase=True,\n",
    "        use_idf=True,\n",
    "        max_df=1.0,\n",
    "        vocabulary=tags,\n",
    "        token_pattern='(?u)\\S\\S+' #Tokeniza as palavras apenas por espaço.\n",
    "    )\n",
    "\n",
    "def cursos_similares(search, max_cursos):\n",
    "    search = _processar_texto(search)\n",
    "    search_tfidf = _aplicar_tfidf([search])\n",
    "    \n",
    "    df_tfidf = df_cursos_tfidf.append(search_tfidf, ignore_index=True)\n",
    "    sim = cosine_similarity(df_tfidf)\n",
    "    index_cursos = pd.Series(sim[-1]).sort_values(ascending=False).index\n",
    "    \n",
    "    return df_cursos.reindex(index_cursos[1:max_cursos+1]).to_dict(orient='records')\n",
    "\n",
    "def _fit_vectorizer_tags_curso():\n",
    "    vectorizer_tags = _get_vectorizer_tags()\n",
    "    vectorizer_tags.fit(tags)\n",
    "    tfidf = vectorizer_tags.transform(tags)\n",
    "    df_tfidf = tfidf_to_dataframe(tfidf, vectorizer_tags)\n",
    "    return df_tfidf, vectorizer_tags\n",
    "    \n",
    "def descobrir_tags_do_curso(desc_curso, corte_sim=0.20, max_tags=8):\n",
    "    tfidf = vectorizer_tags.transform(desc_curso)\n",
    "    df_tfidf_cursos = tfidf_to_dataframe(tfidf, vectorizer_tags)\n",
    "    df = df_tfidf_tags.append(df_tfidf_cursos, ignore_index=True)\n",
    "    \n",
    "    sim = cosine_similarity(df)\n",
    "    sim = pd.Series(sim[-1][:-1])\n",
    "    sim = sim[sim > corte_sim]\n",
    "    \n",
    "    index_tags_sim = sim.sort_values(ascending=False).index\n",
    "    return pd.Series(tags)[index_tags_sim][:max_tags]  \n",
    "    \n",
    "\n",
    "def _inicializar():\n",
    "    global stopwords, df_cursos, df_cursos_tfidf, vectorizer_curso, tags, vectorizer_tags, df_tfidf_tags\n",
    "    \n",
    "    stopwords = nltk.corpus.stopwords.words('english')\n",
    "    #stemmer = nltk.stem.RSLPStemmer()\n",
    "    tags = pd.read_csv('../StackOverflowJobs/data/jobs_tags.csv').columns.tolist()\n",
    "    \n",
    "    df_cursos = pd.read_csv('data/cursos_udemy.csv')\n",
    "    df_cursos.fillna('', inplace=True)\n",
    "    if not 'doc' in df_cursos.columns:\n",
    "        df_cursos['doc'] = df_cursos.apply(lambda row: '%s %s %s'.join([row['title'], row['description'], row['what_learn']]), axis=1)\n",
    "        df_cursos['doc'] = df_cursos['doc'].apply(_processar_texto)\n",
    "    \n",
    "    vectorizer_curso = _get_vectorizer()\n",
    "    vectorizer_curso.fit(df_cursos['doc'])\n",
    "    df_cursos_tfidf = _aplicar_tfidf(df_cursos['doc'])\n",
    "            \n",
    "    df_tfidf_tags, vectorizer_tags = _fit_vectorizer_tags_curso()\n",
    "    \n",
    "_inicializar()\n"
   ]
  },
  {
   "cell_type": "code",
   "execution_count": 183,
   "metadata": {},
   "outputs": [
    {
     "data": {
      "text/plain": [
       "[{'description': \"Are you tired of boring the outdated and incomplete courses , then let's dive in to the world of Rest Api's.Well I'm Asfend Microsoft Most Valuable Professional (MVP) and in this course I'll explain what basically the Rest Api is and how you can create the Rest Api's in Asp.Net and C#.\\xa0\\nThe main focus of this course is on the\\xa0Restful Web Api via Asp.NET and\\xa0C#. So if you're familiar with C# , Asp.Net and Entity Framework Or if you want to create the Restful web api's in\\xa0Asp.Net\\xa0then this is the right course for you\\n\\n\\nIn this course you will learn how to create the REST\\xa0API via Code First and Database First Approach using ASP.NET\\xa0. Then you\\xa0will learn how to test your web api via Postman , Later in this course\\xa0you'll learn how to create Web Apps on Microsoft Azure and Publish your Restful Web Api's to Microsoft Azure Cloud. And then you'll\\xa0cover all the advanced concepts of Rest Api's like Sorting ,\\xa0Caching , Versioning , Security , Api Keys and OAuth2\\n\\n\\nBuild a strong foundation in REST Api's\\xa0with this tutorial .\\n\\n\\nA valuable\\xa0Skill at Your Fingertips\\xa0\\xa0Learning the Rest\\xa0Api 's\\xa0put\\xa0a powerful and attractive\\xa0look in your Resume\\xa0.Both\\xa0C#\\xa0and ASP.NET are\\xa0open source, easy to learn and\\xa0has an\\xa0excellent Microsoft\\xa0support.\\xa0\\nJobs in Rest Api's\\xa0are plentiful, and being able to learn the Web Api\\xa0's with a professional way\\xa0will give you a strong background to more easily pick up other challenging platforms and create the Rest Api's for other platforms.\\nContent and Overview\\xa0\\xa0Suitable for C# programmers, Asp.Net\\xa0Developers , Software engineers or Backend Developers.\\xa0Through this course , you’ll create a\\xa0 Restful Web Api\\xa0and establish a strong understanding of the concept behind Restful web api's.\\xa0\\n\\n\\nWhat am I going to get from this course?\",\n",
       "  'doc': \"Rest Api 's Asp.Net C sAre tired boring outdated incomplete courses let 's dive world Rest Api's.Well I 'm Asfend Microsoft Most Valuable Professional MVP course I 'll explain basically Rest Api create Rest Api 's Asp.Net C The main focus course Restful Web Api via Asp.NET C So 're familiar C Asp.Net Entity Framework Or want create Restful web api 's Asp.Net right course In course learn create REST API via Code First Database First Approach using ASP.NET Then learn test web api via Postman Later course 'll learn create Web Apps Microsoft Azure Publish Restful Web Api 's Microsoft Azure Cloud And cover advanced concepts Rest Api 's like Sorting Caching Versioning Security Api Keys Build strong foundation REST Api's tutorial A valuable Skill Your Fingertips Learning Rest Api 's put powerful attractive look Resume .Both C ASP.NET open source easy learn excellent Microsoft support Jobs Rest Api's plentiful able learn Web Api 's professional way give strong background easily pick challenging platforms create Rest Api 's platforms Content Overview Suitable C programmers Asp.Net Developers Software engineers Backend Developers Through course ’ create Restful Web Api establish strong understanding concept behind Restful web api 's What I going get course sAt end 'll able create REST Api 's In C Asp Dot Net Easily apply core concepts Restful Api 's Programming Language You 'll able Create Rest ful web api 's via Code First Database First Approach You Test Rest Api via Postman You 'll able learn HTTP Methods Verbs You learn Content Negotiation Status Codes Media Types You learn core concepts Web Api 's like Sorting Paging Searching Caching Testing Api 's etc You 'll able learn Advanced Concepts Web Api 's like Caching Versioning Security You 'll able Deploy Rest Api Microsoft Azure Cloud You 'll able secure Api via Api Key User Accounts Login\",\n",
       "  'id': 1481526,\n",
       "  'image_125_H': 'https://udemy-images.udemy.com/course/125_H/1481526_dc54.jpg',\n",
       "  'image_240x135': 'https://udemy-images.udemy.com/course/240x135/1481526_dc54.jpg',\n",
       "  'image_480x270': 'https://udemy-images.udemy.com/course/480x270/1481526_dc54.jpg',\n",
       "  'title': \"Rest Api's in Asp.Net and C#\",\n",
       "  'url': 'https://www.udemy.com/rest-apis-in-asp/',\n",
       "  'what_learn': \"At the end of this you'll be able to create REST Api's In C# and Asp Dot Net and Easily apply those core concepts of Restful Api's in some other Programming Language; You'll be able to Create Rest ful web api's via Code First and Database First Approach; You can Test the Rest Api via Postman; You'll be able to learn the HTTP Methods and Verbs; You can learn the Content Negotiation , Status Codes , Media Types; You can learn all the core concepts of Web Api's like Sorting , Paging , Searching , Caching , Testing Api's etc; You'll be able to learn all the Advanced Concepts of Web Api's like Caching , Versioning , Security , OAuth2; You'll be able to Deploy your Rest Api to Microsoft Azure Cloud; You'll be able to secure your Api via Api Key and User Accounts Login\"},\n",
       " {'description': \"Are you tired of boring the outdated and incomplete courses , then let's dive in to the world of Rest Api's.Well I'm Asfend Microsoft Most Valuable Professional (MVP) and in this course I'll explain what basically the Rest Api is and how you can create the Rest Api's in Asp.Net and C#.\\xa0\\nThe main focus of this course is on the\\xa0Restful Web Api via Asp.NET and\\xa0C#. So if you're familiar with C# , Asp.Net and Entity Framework Or if you want to create the Restful web api's in\\xa0Asp.Net\\xa0then this is the right course for you\\n\\n\\nIn this course you will learn how to create the REST\\xa0API via Code First and Database First Approach using ASP.NET\\xa0. Then you\\xa0will learn how to test your web api via Postman , Later in this course\\xa0you'll learn how to create Web Apps on Microsoft Azure and Publish your Restful Web Api's to Microsoft Azure Cloud. And then you'll\\xa0cover all the advanced concepts of Rest Api's like Sorting ,\\xa0Caching , Versioning , Security , Api Keys and OAuth2\\n\\n\\nBuild a strong foundation in REST Api's\\xa0with this tutorial .\\n\\n\\nA valuable\\xa0Skill at Your Fingertips\\xa0\\xa0Learning the Rest\\xa0Api 's\\xa0put\\xa0a powerful and attractive\\xa0look in your Resume\\xa0.Both\\xa0C#\\xa0and ASP.NET are\\xa0open source, easy to learn and\\xa0has an\\xa0excellent Microsoft\\xa0support.\\xa0\\nJobs in Rest Api's\\xa0are plentiful, and being able to learn the Web Api\\xa0's with a professional way\\xa0will give you a strong background to more easily pick up other challenging platforms and create the Rest Api's for other platforms.\\nContent and Overview\\xa0\\xa0Suitable for C# programmers, Asp.Net\\xa0Developers , Software engineers or Backend Developers.\\xa0Through this course , you’ll create a\\xa0 Restful Web Api\\xa0and establish a strong understanding of the concept behind Restful web api's.\\xa0\\n\\n\\nWhat am I going to get from this course?\",\n",
       "  'doc': \"Rest Api 's Asp.Net C sAre tired boring outdated incomplete courses let 's dive world Rest Api's.Well I 'm Asfend Microsoft Most Valuable Professional MVP course I 'll explain basically Rest Api create Rest Api 's Asp.Net C The main focus course Restful Web Api via Asp.NET C So 're familiar C Asp.Net Entity Framework Or want create Restful web api 's Asp.Net right course In course learn create REST API via Code First Database First Approach using ASP.NET Then learn test web api via Postman Later course 'll learn create Web Apps Microsoft Azure Publish Restful Web Api 's Microsoft Azure Cloud And cover advanced concepts Rest Api 's like Sorting Caching Versioning Security Api Keys Build strong foundation REST Api's tutorial A valuable Skill Your Fingertips Learning Rest Api 's put powerful attractive look Resume .Both C ASP.NET open source easy learn excellent Microsoft support Jobs Rest Api's plentiful able learn Web Api 's professional way give strong background easily pick challenging platforms create Rest Api 's platforms Content Overview Suitable C programmers Asp.Net Developers Software engineers Backend Developers Through course ’ create Restful Web Api establish strong understanding concept behind Restful web api 's What I going get course sAt end 'll able create REST Api 's In C Asp Dot Net Easily apply core concepts Restful Api 's Programming Language You 'll able Create Rest ful web api 's via Code First Database First Approach You Test Rest Api via Postman You 'll able learn HTTP Methods Verbs You learn Content Negotiation Status Codes Media Types You learn core concepts Web Api 's like Sorting Paging Searching Caching Testing Api 's etc You 'll able learn Advanced Concepts Web Api 's like Caching Versioning Security You 'll able Deploy Rest Api Microsoft Azure Cloud You 'll able secure Api via Api Key User Accounts Login\",\n",
       "  'id': 1481526,\n",
       "  'image_125_H': 'https://udemy-images.udemy.com/course/125_H/1481526_dc54.jpg',\n",
       "  'image_240x135': 'https://udemy-images.udemy.com/course/240x135/1481526_dc54.jpg',\n",
       "  'image_480x270': 'https://udemy-images.udemy.com/course/480x270/1481526_dc54.jpg',\n",
       "  'title': \"Rest Api's in Asp.Net and C#\",\n",
       "  'url': 'https://www.udemy.com/rest-apis-in-asp/',\n",
       "  'what_learn': \"At the end of this you'll be able to create REST Api's In C# and Asp Dot Net and Easily apply those core concepts of Restful Api's in some other Programming Language; You'll be able to Create Rest ful web api's via Code First and Database First Approach; You can Test the Rest Api via Postman; You'll be able to learn the HTTP Methods and Verbs; You can learn the Content Negotiation , Status Codes , Media Types; You can learn all the core concepts of Web Api's like Sorting , Paging , Searching , Caching , Testing Api's etc; You'll be able to learn all the Advanced Concepts of Web Api's like Caching , Versioning , Security , OAuth2; You'll be able to Deploy your Rest Api to Microsoft Azure Cloud; You'll be able to secure your Api via Api Key and User Accounts Login\"},\n",
       " {'description': \"Are you tired of boring the outdated and incomplete courses , then let's dive in to the world of Rest Api's.Well I'm\\xa0Asfend Microsoft Most Valuable Professional (MVP)\\xa0and in this course I'll explain what basically the Rest Api is and how you can create the Rest Api's in Asp.Net Core and C#.\\xa0\\nThe main focus of this course is on the\\xa0Restful Web Api via Asp.NET Core and\\xa0C#. So if you're familiar with C# , Asp.Net and Entity Framework Or if you want to create the Restful web api's in\\xa0Asp.Net\\xa0then this is the right course for you\\nIn this course you will learn how to create the REST\\xa0API via Code First Approach using Entity Framework\\xa0. Then you\\xa0will learn how to test your web api via Postman , Later in this course\\xa0you'll learn how to create Web Apps on Microsoft Azure and Publish your Restful Web Api's to Microsoft Azure Cloud. And then you'll\\xa0cover all the advanced concepts of Rest Api's like Sorting , Paging , Validations\\xa0,Versioning , Api\\xa0Documentation\\nBuild a strong foundation in REST Api's\\xa0with this tutorial .\\nA valuable\\xa0Skill at Your Fingertips\\xa0\\xa0Learning the Rest\\xa0Api 's\\xa0put\\xa0a powerful and attractive\\xa0look in your Resume\\xa0.Both\\xa0C#\\xa0and ASP.NET are\\xa0open source, easy to learn and\\xa0has an\\xa0excellent Microsoft\\xa0support.\\xa0\\nJobs in Rest Api's\\xa0are plentiful, and being able to learn the Web Api\\xa0's with a professional way\\xa0will give you a strong background to more easily pick up other challenging platforms and create the Rest Api's for other platforms.\\nContent and Overview\\xa0\\xa0Suitable for C# programmers, Asp.Net\\xa0Developers , Software engineers or Backend Developers.\\xa0Through this course , you’ll create a\\xa0 Restful Web Api\\xa0and establish a strong understanding of the concept behind Restful web api's.\\xa0\\nWhat am I going to get from this course?\",\n",
       "  'doc': \"Rest Api 's Asp.Net Core C sAre tired boring outdated incomplete courses let 's dive world Rest Api's.Well I'm Asfend Microsoft Most Valuable Professional MVP course I 'll explain basically Rest Api create Rest Api 's Asp.Net Core C The main focus course Restful Web Api via Asp.NET Core C So 're familiar C Asp.Net Entity Framework Or want create Restful web api 's Asp.Net right course In course learn create REST API via Code First Approach using Entity Framework Then learn test web api via Postman Later course 'll learn create Web Apps Microsoft Azure Publish Restful Web Api 's Microsoft Azure Cloud And cover advanced concepts Rest Api 's like Sorting Paging Validations Versioning Api Documentation Build strong foundation REST Api's tutorial A valuable Skill Your Fingertips Learning Rest Api 's put powerful attractive look Resume .Both C ASP.NET open source easy learn excellent Microsoft support Jobs Rest Api's plentiful able learn Web Api 's professional way give strong background easily pick challenging platforms create Rest Api 's platforms Content Overview Suitable C programmers Asp.Net Developers Software engineers Backend Developers Through course ’ create Restful Web Api establish strong understanding concept behind Restful web api 's What I going get course sAt end 'll able create REST Api 's In Asp Dot Net Core Easily apply core concepts Restful Api 's Programming Language You 'll able Create Rest ful web api 's via Code First Entity Framework You Test Rest Api via Postman You 'll able learn HTTP Methods Verbs You learn Content Negotiation Status Codes Media Types You learn core concepts Web Api 's like Sorting Paging Searching Testing Api 's etc You 'll able learn Advanced Concepts Web Api 's like Api Documentation Versioning Deployment You 'll able Deploy Rest Api Microsoft Azure Cloud\",\n",
       "  'id': 1563268,\n",
       "  'image_125_H': 'https://udemy-images.udemy.com/course/125_H/1563268_6bc6.jpg',\n",
       "  'image_240x135': 'https://udemy-images.udemy.com/course/240x135/1563268_6bc6.jpg',\n",
       "  'image_480x270': 'https://udemy-images.udemy.com/course/480x270/1563268_6bc6.jpg',\n",
       "  'title': \"Rest Api's in Asp.Net Core and C#\",\n",
       "  'url': 'https://www.udemy.com/rest-apis-in-aspnet-core/',\n",
       "  'what_learn': \"At the end of this you'll be able to create REST Api's In Asp Dot Net Core and Easily apply those core concepts of Restful Api's in some other Programming Language; You'll be able to Create Rest ful web api's via Code First with Entity Framework; You can Test the Rest Api via Postman; You'll be able to learn the HTTP Methods and Verbs; You can learn the Content Negotiation , Status Codes , Media Types; You can learn all the core concepts of Web Api's like Sorting , Paging , Searching ,  Testing Api's etc; You'll be able to learn all the Advanced Concepts of Web Api's like Api Documentation, Versioning , Deployment; You'll be able to Deploy your Rest Api to Microsoft Azure Cloud\"},\n",
       " {'description': 'Want to learn how to build REST API with Nodejs, ExpressJs and MongoDB ?? If yes, then this course is for you. In this course you will learn how to create MVC pattern REST\\xa0API architecture in Nodejs, communication with MongoDB using Mongoose, Securing API with JWT ( jsonwebtoken) and documenting API\\xa0using popular open source tool called swagger.\\nWe are in the world of REST\\xa0API architecture because of boom in the micro-services. Every company is moving toward REST API architecture from traditional monolithic server architecture. \\nWhat is REST API ?\\nA RESTful API is an application program interface (API) that uses\\xa0HTTP\\xa0requests to GET, PUT, POST and DELETE data.\\xa0 \\n\\nWhy MVC\\xa0Pattern in REST\\xa0API ? \\nMVC pattern/architecture allows you to decouple your code into various modules such as controller, services, models and routes so that you can scale your code without any burden of code maintenance as all the nodes in the MVC\\xa0architecture works in sync and as expected.\\n\\nYou will learning the following things in this course:\\n♦\\xa0 REST API in Nodejs and ExpressJs.\\n♦\\xa0 MVC Architecture in REST API Nodejs.\\n♦\\xa0 Interaction with MongoDB\\xa0in nodejs using mongoose.\\n♦\\xa0 Create, update, delete and find query using mongoose.\\n♦\\xa0 Create list pagination API using mongoose pagination query in Nodejs.\\n♦\\xa0 Secure REST API with JSONWEBTOKEN ( JWT ).\\n♦\\xa0 Use tools such as POSTMAN to test API.\\n♦\\xa0 Write middleware in Nodejs .\\n♦\\xa0 Joi object schema validation in Nodejs .\\n♦\\xa0 Gulp Tasks: nodemon, watch, gulp-yaml.\\n♦\\xa0 Host swagger documentation of your REST API on your API server itself.\\n♦\\xa0 Create Re-usable services in REST\\xa0API.\\n♦\\xa0 Enable Cross-Origin Resource Sharing (CORS) in Nodejs REST API.\\n♦\\xa0 Mongoose schema and models.\\n♦\\xa0 HTTP request basics: Request body, path params, query params and headers.\\n♦\\xa0 CRUD\\xa0API in Nodejs.\\n♦\\xa0 Login/Authenticate API\\xa0to generate token.\\n♦\\xa0 REST API Design.\\n♦ \\xa0Node and NPM.\\n♦ \\xa0and more.\\n\\n\\n\\n\\n',\n",
       "  'doc': 'Nodejs REST API JWT Security MongoDB Complete Guide sWant learn build REST API Nodejs ExpressJs MongoDB If yes course In course learn create MVC pattern REST API architecture Nodejs communication MongoDB using Mongoose Securing API JWT jsonwebtoken documenting API using popular open source tool called swagger We world REST API architecture boom micro-services Every company moving toward REST API architecture traditional monolithic server architecture What REST API A RESTful API application program interface API uses HTTP requests GET PUT POST DELETE data Why MVC Pattern REST API MVC pattern/architecture allows decouple code various modules controller services models routes scale code without burden code maintenance nodes MVC architecture works sync expected You learning following things course ♦ REST API Nodejs ExpressJs ♦ MVC Architecture REST API Nodejs ♦ Interaction MongoDB nodejs using mongoose ♦ Create update delete find query using mongoose ♦ Create list pagination API using mongoose pagination query Nodejs ♦ Secure REST API JSONWEBTOKEN JWT ♦ Use tools POSTMAN test API ♦ Write middleware Nodejs ♦ Joi object schema validation Nodejs ♦ Gulp Tasks nodemon watch gulp-yaml ♦ Host swagger documentation REST API API server ♦ Create Re-usable services REST API ♦ Enable Cross-Origin Resource Sharing CORS Nodejs REST API ♦ Mongoose schema models ♦ HTTP request basics Request body path params query params headers ♦ CRUD API Nodejs ♦ Login/Authenticate API generate token ♦ REST API Design ♦ Node NPM ♦ sREST API Nodejs Expressjs MVC architecture Secure REST API JSONWEBTOKEN JWT Swagger documentation REST API API server REST API Design MongoDB Mongoose schema models Create Re-usable services REST API Login/Authenticate API generate token CRUD API Nodejs Create update delete find query using mongoose Create list pagination API using mongoose pagination query Nodejs',\n",
       "  'id': 2017822,\n",
       "  'image_125_H': 'https://udemy-images.udemy.com/course/125_H/2017822_0840_9.jpg',\n",
       "  'image_240x135': 'https://udemy-images.udemy.com/course/240x135/2017822_0840_9.jpg',\n",
       "  'image_480x270': 'https://udemy-images.udemy.com/course/480x270/2017822_0840_9.jpg',\n",
       "  'title': 'Nodejs REST API with JWT Security & MongoDB - Complete Guide',\n",
       "  'url': 'https://www.udemy.com/nodejs-rest-api-jwt-security-mongodb-complete-guide/',\n",
       "  'what_learn': 'REST API in Nodejs, Expressjs with MVC architecture.; Secure REST API with JSONWEBTOKEN ( JWT ); Swagger documentation of your REST API on your API server itself.; REST API Design.; MongoDB Mongoose schema and models.; Create Re-usable services in REST\\xa0API.; Login/Authenticate API\\xa0to generate token.; CRUD\\xa0API in Nodejs; Create, update, delete and find query using mongoose.; Create list pagination API using mongoose pagination query in Nodejs.'},\n",
       " {'description': 'This Web API test checks your basic knowledge of ASP.NET Web API. It includes 20 questions and each question includes 4 options. Select an appropriate answer out of 4 options. There is no time limit for this test.\\nThis online test includes questions related to Web API basics, controller, routing, configuration, parameter binding etc. Visit Web API tutorials if you want to refer it before giving the test.',\n",
       "  'doc': 'ASP.Net WEB API Online Test sThis Web API test checks basic knowledge ASP.NET Web API It includes questions question includes options Select appropriate answer options There time limit test This online test includes questions related Web API basics controller routing configuration parameter binding etc Visit Web API tutorials want refer giving test.',\n",
       "  'id': 1447644,\n",
       "  'image_125_H': 'https://www.udemy.com/staticx/udemy/images/course/125_H/placeholder.png',\n",
       "  'image_240x135': 'https://www.udemy.com/staticx/udemy/images/course/240x135/placeholder.png',\n",
       "  'image_480x270': 'https://www.udemy.com/staticx/udemy/images/course/480x270/placeholder.png',\n",
       "  'title': 'ASP.Net WEB API Online Test',\n",
       "  'url': 'https://www.udemy.com/aspnet-web-api/',\n",
       "  'what_learn': ''},\n",
       " {'description': \"So you know a bit of Python and want to learn about RESTful API's and other cool technologies like Flask, Docker, MongoDB to name just a few?\\nOr maybe you just want to add web development Python skills to your resume.\\nWhatever the reason is, you have landed on the right page if you have an interest in taking your Python skills to the next level.\\nWhy use Python for web development?\\nCoding in Python is simple, and a student with no prior knowledge can easily understand a line of code and its use - this means with only the basics, you can comfortably write a complete program.\\nPython has a great number of frameworks and tools to get you up and going fast with web development. \\xa0\\nIt's a great match - a powerful language with a great range of tools that you can put to use quickly.\\nWhy choose this course?\\nWhat topics are covered in this course?\\nUnderstanding the Basics of the Python Flask Framework\\nUnderstanding and Implementing a \\xa0REST API\\nDocker\\nMongoDB\\nProject: Database as a Service Restful API\\nProject: Building a Restful API for similarity check using Natural Language Processing\\nProject: Building an Image Recognition Restful API using Tensorflow and Deep Learning\\nProject: Building a Restful API to Handle Bank Transactions\\nDeploying Restful API into an AWS EC2 InstanceYou'll come away with a firm understanding of how all the pieces work individually, and more importantly how they fit together.\\nThis really is an all in one course to get you up to speed with these topics, fast.\\nWhat skills do you need?\\nThe ideal student would be someone with a basic knowledge of Python who is eager to improve their skills. \\xa0That's it!Ready to start?If you're ready to start the course, then click the enroll button to get started.\\xa0We look forward to seeing you on the inside.o\",\n",
       "  'doc': \"Python REST APIs Flask Docker MongoDB AWS DevOps sSo know bit Python want learn RESTful API 's cool technologies like Flask Docker MongoDB name Or maybe want add web development Python skills resume Whatever reason landed right page interest taking Python skills next level Why use Python web development Coding Python simple student prior knowledge easily understand line code use means basics comfortably write complete program Python great number frameworks tools get going fast web development It 's great match powerful language great range tools put use quickly Why choose course What topics covered course Understanding Basics Python Flask Framework Understanding Implementing REST API Docker MongoDB Project Database Service Restful API Project Building Restful API similarity check using Natural Language Processing Project Building Image Recognition Restful API using Tensorflow Deep Learning Project Building Restful API Handle Bank Transactions Deploying Restful API AWS InstanceYou 'll come away firm understanding pieces work individually importantly fit together This really one course get speed topics fast What skills need The ideal student would someone basic knowledge Python eager improve skills That 's Ready start If 're ready start course click enroll button get started We look forward seeing inside.o sHave deeper knowledge understanding core elements web development using Python Understand able use flask framework Plan build setup deploy RESTful API Amazon instance Make use NoSQL MongoDB Database Build machine-learning API using Tensorflow image recognition\",\n",
       "  'id': 1747522,\n",
       "  'image_125_H': 'https://udemy-images.udemy.com/course/125_H/1747522_f7f0.jpg',\n",
       "  'image_240x135': 'https://udemy-images.udemy.com/course/240x135/1747522_f7f0.jpg',\n",
       "  'image_480x270': 'https://udemy-images.udemy.com/course/480x270/1747522_f7f0.jpg',\n",
       "  'title': 'Python REST APIs with Flask, Docker, MongoDB, and AWS DevOps',\n",
       "  'url': 'https://www.udemy.com/python-rest-apis-with-flask-docker-mongodb-and-aws-devops/',\n",
       "  'what_learn': 'Have a deeper knowledge and understanding of core elements of web development using Python; Understand and be able to use the flask framework; Plan, build, setup and deploy a RESTful API to an Amazon EC2 instance; Make use of a NoSQL (MongoDB) Database; Build a machine-learning API using Tensorflow for image recognition'},\n",
       " {'description': 'Hello everyone!, In this course, you will learn how to design and develop real-time Restful API from the scratch using Spring Boot framework (latest distribution). Also, you will learn how to perform major operations such as Endpoint Design, Database Connectivity, Object Persistence (JPA) , Security, Source Code Management (GitHub) and Deployment to Cloud-Service.\\xa0',\n",
       "  'doc': 'Restful API Development Spring Boot JPA Cloud sHello everyone In course learn design develop real-time Restful API scratch using Spring Boot framework latest distribution Also learn perform major operations Endpoint Design Database Connectivity Object Persistence JPA Security Source Code Management GitHub Deployment Cloud-Service sHow work latest Spring Boot version How develop REST API scratch using Spring Boot Framework Spring Boot Development IntelliJ IDE How Design Deploy API Cloud',\n",
       "  'id': 2044906,\n",
       "  'image_125_H': 'https://udemy-images.udemy.com/course/125_H/2044906_adad_4.jpg',\n",
       "  'image_240x135': 'https://udemy-images.udemy.com/course/240x135/2044906_adad_4.jpg',\n",
       "  'image_480x270': 'https://udemy-images.udemy.com/course/480x270/2044906_adad_4.jpg',\n",
       "  'title': 'Restful API Development with Spring Boot + JPA + Cloud',\n",
       "  'url': 'https://www.udemy.com/restful-api-development-with-spring-boot-jpa-cloud/',\n",
       "  'what_learn': 'How to work with latest Spring Boot version; How to develop a REST API from the scratch using Spring Boot Framework; Spring Boot Development with IntelliJ IDE; How to Design and Deploy an API to the Cloud'},\n",
       " {'description': 'Have you ever wanted to advance your PHP skills to the next level? Maybe you have some prior PHP experience but you never had a change to work with a framework? Or you are new to PHP\\xa0at all?\\nIt does not matter! You can take this course to give your PHP projects a fresh start! In modern world, sooner or later, as a web developer you will have to create a API and a frontend application in React.JS or any other JS framework out there. It\\'s just a must have these days for any professional web developer!\\nThis is where I can help you. Take this course to learn how to create robust APIs in PHP, using Symfony Framework 4 and API\\xa0Platform. You will not believe how easy and instant it could be! I\\'ll take you step by step during the whole process, from creating your own robust API to making a modern React.JS application using Redux, Redux-Form and all the other tools that you just need to know to get a job these days!\\nCheck out the course outline, free preview videos, and read some of the reviews that my other courses got:\\n\"Real world course, made by a developer for developers, and very well explained. Learner knows ALL what he does, and why! Congratz!!!\"\\n\"I\\'ve taken a few different Udemy courses now with various instructors. I\\'ve found that I like Piotr\\'s teaching style the best out of all the instructors I\\'ve taken. He has the right balance of coding and in depth explanation, which is exactly what I was hoping to get when I purchased this course. Piotr provides some excellent insight into the inner workings of Symfony and does an awesome job of showing how you would begin to build a larger application utilizing the proper Symfony components. Symfony is a huge framework and I don\\'t think I would\\'ve been able to dig into the documentation and take it apart as quickly on my own. I highly recommend this course to anyone who wants to get their hands dirty and jump right into the meat of how Symfony works.\"\\n\"Really good course, i learned a lot. Keep up the good job!!\"\\n\"Great course! Really liked how the instructor included production deployment in the course. It was helpful!\"\\n\"Very detailed explanation. I\\'m loving it!\"\\n\"Amazing course! In-depth explanations, perfect talking pace, talks slow and is direct to the point. I had no previously knowledge in Symfony before starting, and this course gave me the confidence to start developing real world apps using Symfony. You will learn a lot of the Symfony framework, and some other cool techniques like Ajax Calls, Testing, Server configuration and Continous Deployment of your code.\"\\n\\nYou will be creating a Blog application, starting with the API in Symfony API\\xa0Platform, and then a complete React+Redux frontend app. We will also configure an administration panel for managing the platform.\\nBoth Windows and MacOS are supported (I\\'ll show you how to install and configure PHP and Node.js on both)\\nWhat will you learn about Symfony and API\\xa0Platform?\\nYou will learn how to create Symfony controllers and work with routing\\nYou will learn how to represent your database tables as objects in Doctrine\\nYou will see how you can quickly convert your Doctrine model to an API\\xa0Resource\\nYou will learn how to paginate, filter and sort your collections\\nYou will see how to send an e-mail \\nYou will learn everything about Authentication (user sign-up, sign-in, including account confirmation through e-mail)\\nYou will understand everything about Authorization (User roles, privileges, restricting access)\\nYou will know how to handle file uploads through REST\\xa0API\\nYou will learn how to log errors\\nYou will learn both unit testing (PHPUnit) and functional testing (Behat)\\nYou will know how to customize and extend the built-in operations that API\\xa0Platform provide\\nData validation and serialization/deserialization\\nWhat will you learn about React.js?\\nHow to configure routes for your app using React Router\\nHow to handle state with Redux\\nHow to create great forms using Redux Forms\\nCommunicating with the API using Thunk Middleware\\nAfter finishing this course you will be able to confidently create your own complicated APIs in Symfony using API\\xa0Platform and create a SPA application using React.js!\\nSee you inside the course!',\n",
       "  'doc': \"PHP Symfony API Platform React.js Full Stack Masterclass sHave ever wanted advance PHP skills next level Maybe prior PHP experience never change work framework Or new PHP It matter You take course give PHP projects fresh start In modern world sooner later web developer create API frontend application React.JS JS framework It 's must days professional web developer This I help Take course learn create robust APIs PHP using Symfony Framework API Platform You believe easy instant could I 'll take step step whole process creating robust API making modern React.JS application using Redux Redux-Form tools need know get job days Check course outline free preview videos read reviews courses got '' Real world course made developer developers well explained Learner knows ALL Congratz '' `` I 've taken different Udemy courses various instructors I 've found I like Piotr 's teaching style best instructors I 've taken He right balance coding depth explanation exactly I hoping get I purchased course Piotr provides excellent insight inner workings Symfony awesome job showing would begin build larger application utilizing proper Symfony components Symfony huge framework I n't think I would 've able dig documentation take apart quickly I highly recommend course anyone wants get hands dirty jump right meat Symfony works '' `` Really good course learned lot Keep good job '' `` Great course Really liked instructor included production deployment course It helpful '' `` Very detailed explanation I 'm loving '' `` Amazing course In-depth explanations perfect talking pace talks slow direct point I previously knowledge Symfony starting course gave confidence start developing real world apps using Symfony You learn lot Symfony framework cool techniques like Ajax Calls Testing Server configuration Continous Deployment code '' You creating Blog application starting API Symfony API Platform complete React+Redux frontend app We also configure administration panel managing platform Both Windows MacOS supported I 'll show install configure PHP Node.js What learn Symfony API Platform You learn create Symfony controllers work routing You learn represent database tables objects Doctrine You see quickly convert Doctrine model API Resource You learn paginate filter sort collections You see send e-mail You learn everything Authentication user sign-up sign-in including account confirmation e-mail You understand everything Authorization User roles privileges restricting access You know handle file uploads REST API You learn log errors You learn unit testing PHPUnit functional testing Behat You know customize extend built-in operations API Platform provide Data validation serialization/deserialization What learn React.js How configure routes app using React Router How handle state Redux How create great forms using Redux Forms Communicating API using Thunk Middleware After finishing course able confidently create complicated APIs Symfony using API Platform create SPA application using React.js See inside course sYou know create robust APIs Symfony using API Platform You understand basics Symfony Framework You know create pretty complicated ReactJS application works API Platform API\",\n",
       "  'id': 1693392,\n",
       "  'image_125_H': 'https://udemy-images.udemy.com/course/125_H/1693392_356e_6.jpg',\n",
       "  'image_240x135': 'https://udemy-images.udemy.com/course/240x135/1693392_356e_6.jpg',\n",
       "  'image_480x270': 'https://udemy-images.udemy.com/course/480x270/1693392_356e_6.jpg',\n",
       "  'title': 'PHP Symfony 4 API Platform + React.js Full Stack Masterclass',\n",
       "  'url': 'https://www.udemy.com/symfony-api-platform-reactjs-full-stack-masterclass/',\n",
       "  'what_learn': 'You will know how to create a robust APIs in Symfony 4 using API Platform; You will understand the basics of Symfony Framework; You will know how to create a pretty complicated ReactJS application that works with API Platform (or any API!)'},\n",
       " {'description': 'UPDATED dec 2018.Are you a developer and a beginner at React? Do you want to learn React.js fundamentals in a real world project oriented course?\\xa0Do you like quick learning and straight down to the point? Then this is the course for you!Guaranteed no \"foo\"\\xa0and \"bar\"\\xa0... and no \"to-do-list\" app ;)There\\'s many great React.js courses out there but they\\'re very huge and A\\xa0LOT\\xa0to grasp for beginners. My teaching style and belief is that you learn more by creating many smaller projects than one overwhelming 25 + hours course that tries to show you everything and don\\'t focus on the fundamentals that much. So this is a 3 hour(ish) course where You\\'ll learn how to create a Movie App from scratch based on The Movie DB\\xa0API.Some reviews are saying:\\xa0\"One of the best project oriented courses on Udemy very recommended\"\"The instructor was very creative in figuring out a nice illustrative use case for the Movie DB API.\"\"A perfect course and a great project with the best explanation possible, I recommend it to everyone that wants to understand the logic of React and how it works.\"What will we do in the course?We\\'ll build a light version of an IMDB\\xa0style React DB\\xa0Web Application and dive straight into creating our app and gradually learn more until we reach the finish.My main goal with this course is to mix fun with teaching. There\\'s many tutorials and courses out there that are great but too complex and focus on a lot at the same time. I\\'m a great movie lover myself so therefore I\\xa0thought it would be fun to create a web application based on movie data for this course. Hope you enjoy it too!Please make sure to download the STARTER\\xa0FILES\\xa0from the resources!PLEASE NOTE!\\xa0We\\'re using a free API\\xa0key from The Movie Database in this course. This is a great API\\xa0with a lot of information about Movies and TV\\xa0Series. Please note that I\\xa0can not guarantee that the API\\xa0key i have provided for the course will work forever. Therefore I will not take responsibility for this. I\\xa0strongly recommend you to get your own free API\\xa0key from The Movie Database. Just register for a free account at The Movie Database and go to your account setting area and select API\\xa0in the menu. There you can register for your own free API key.In this course you\\'ll learn:\\n- React Fundamentals\\n- Components, props and state\\n- JSX syntax and expressions\\n- Fetching data from an external API\\n- Lifecycle Methods\\n- Use Create-React-App\\n- Deploy the finished App\\n- ES6+ concepts and syntax\\n- Use Local Storage to keep state\\n- BONUS:\\xa0Destructuring state and props with ES6',\n",
       "  'doc': \"Beginner React Create Movie Web App sUPDATED dec developer beginner React Do want learn React.js fundamentals real world project oriented course Do like quick learning straight point Then course Guaranteed `` foo '' `` bar '' ... `` to-do-list '' app There 's many great React.js courses 're huge A LOT grasp beginners My teaching style belief learn creating many smaller projects one overwhelming hours course tries show everything n't focus fundamentals much So hour ish course You 'll learn create Movie App scratch based The Movie DB API.Some reviews saying '' One best project oriented courses Udemy recommended '' '' The instructor creative figuring nice illustrative use case Movie DB API `` `` A perfect course great project best explanation possible I recommend everyone wants understand logic React works `` What course We 'll build light version IMDB style React DB Web Application dive straight creating app gradually learn reach finish.My main goal course mix fun teaching There 's many tutorials courses great complex focus lot time I 'm great movie lover therefore I thought would fun create web application based movie data course Hope enjoy Please make sure download STARTER FILES resources PLEASE NOTE We 're using free API key The Movie Database course This great API lot information Movies TV Series Please note I guarantee API key provided course work forever Therefore I take responsibility I strongly recommend get free API key The Movie Database Just register free account The Movie Database go account setting area select API menu There register free API key.In course 'll learn React Fundamentals Components props state JSX syntax expressions Fetching data external API Lifecycle Methods Use Create-React-App Deploy finished App concepts syntax Use Local Storage keep state BONUS Destructuring state props sBuild entire real world Web App start finish Use Create-React-App base The basics React reactjs State Props flow components A lot Syntax Create use React Components Connect external API Routing React Router Deploy finished App Use Local Storage keep state\",\n",
       "  'id': 1872796,\n",
       "  'image_125_H': 'https://udemy-images.udemy.com/course/125_H/1872796_f86f_16.jpg',\n",
       "  'image_240x135': 'https://udemy-images.udemy.com/course/240x135/1872796_f86f_16.jpg',\n",
       "  'image_480x270': 'https://udemy-images.udemy.com/course/480x270/1872796_f86f_16.jpg',\n",
       "  'title': 'Beginner React (2019). Create a Movie Web App',\n",
       "  'url': 'https://www.udemy.com/learn-react-the-fun-way/',\n",
       "  'what_learn': 'Build an entire real world Web App from start to finish; Use Create-React-App as a base; The basics of React ( reactjs ); State, Props and the flow between components; A lot of ES6 Syntax; Create and use React Components; Connect to an external API; Routing with React Router; Deploy the finished App; Use Local Storage to keep state'},\n",
       " {'description': 'This course will give introduction to .net core APIs, from the very basic to advanced levels. You will be introduced to various functionality and data handling. With that, you will also be provided a real-world example, which will include developing custom authentication, registration and authorization, as well as some other data entry and output features.\\n\\nThe course is especially useful for people who seek practical, rather than theoretical knowledge. Also, the course will avoid using highly-technical language, therefore, if you are working or you are planning to work with non-tech people, you will learn some communication skills for those situations.\\n\\n',\n",
       "  'doc': '.NET CORE API development sThis course give introduction .net core APIs basic advanced levels You introduced various functionality data handling With also provided real-world example include developing custom authentication registration authorization well data entry output features The course especially useful people seek practical rather theoretical knowledge Also course avoid using highly-technical language therefore working planning work non-tech people learn communication skills situations sPractical .NET CORE API development skills Handling HTTP requests responses Skills use use SQL server MSSQL REST API development',\n",
       "  'id': 1909410,\n",
       "  'image_125_H': 'https://udemy-images.udemy.com/course/125_H/1909410_9158_3.jpg',\n",
       "  'image_240x135': 'https://udemy-images.udemy.com/course/240x135/1909410_9158_3.jpg',\n",
       "  'image_480x270': 'https://udemy-images.udemy.com/course/480x270/1909410_9158_3.jpg',\n",
       "  'title': '.NET CORE API development',\n",
       "  'url': 'https://www.udemy.com/net-core-api-development/',\n",
       "  'what_learn': 'Practical .NET CORE API development skills; Handling HTTP requests and responses; Skills to use to use SQL server (MSSQL); REST API development'}]"
      ]
     },
     "execution_count": 183,
     "metadata": {},
     "output_type": "execute_result"
    }
   ],
   "source": [
    "cursos_similares('pytho djando api', 10)"
   ]
  },
  {
   "cell_type": "code",
   "execution_count": 184,
   "metadata": {
    "collapsed": true
   },
   "outputs": [],
   "source": [
    "df_cursos_tfidf.to_csv('data/cursos_tfidf.csv', index=False)"
   ]
  },
  {
   "cell_type": "code",
   "execution_count": 185,
   "metadata": {},
   "outputs": [
    {
     "data": {
      "text/plain": [
       "['data/vectorizer_cursos.dat']"
      ]
     },
     "execution_count": 185,
     "metadata": {},
     "output_type": "execute_result"
    }
   ],
   "source": [
    "joblib.dump(vectorizer_curso, 'data/vectorizer_cursos.dat')"
   ]
  },
  {
   "cell_type": "code",
   "execution_count": 586,
   "metadata": {},
   "outputs": [
    {
     "data": {
      "text/plain": [
       "['data/vectorizer_tags.dat']"
      ]
     },
     "execution_count": 586,
     "metadata": {},
     "output_type": "execute_result"
    }
   ],
   "source": [
    "joblib.dump(vectorizer_tags, 'data/vectorizer_tags.dat')"
   ]
  },
  {
   "cell_type": "code",
   "execution_count": 587,
   "metadata": {
    "collapsed": true
   },
   "outputs": [],
   "source": [
    "df_tfidf_tags.to_csv('data/tags_tfidf.csv', index=False)"
   ]
  },
  {
   "cell_type": "code",
   "execution_count": null,
   "metadata": {
    "collapsed": true
   },
   "outputs": [],
   "source": []
  }
 ],
 "metadata": {
  "kernelspec": {
   "display_name": "Python 3",
   "language": "python",
   "name": "python3"
  },
  "language_info": {
   "codemirror_mode": {
    "name": "ipython",
    "version": 3
   },
   "file_extension": ".py",
   "mimetype": "text/x-python",
   "name": "python",
   "nbconvert_exporter": "python",
   "pygments_lexer": "ipython3",
   "version": "3.6.3"
  }
 },
 "nbformat": 4,
 "nbformat_minor": 2
}
