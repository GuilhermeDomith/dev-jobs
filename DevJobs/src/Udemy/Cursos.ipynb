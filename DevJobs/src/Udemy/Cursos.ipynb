{
 "cells": [
  {
   "cell_type": "code",
   "execution_count": 2,
   "metadata": {
    "collapsed": true
   },
   "outputs": [],
   "source": [
    "from sklearn.metrics.pairwise import cosine_similarity\n",
    "from sklearn.feature_extraction.text import TfidfVectorizer\n",
    "from sklearn.externals import joblib\n",
    "from string import punctuation, digits\n",
    "import nltk, pandas as pd, re"
   ]
  },
  {
   "cell_type": "code",
   "execution_count": 7,
   "metadata": {
    "collapsed": true
   },
   "outputs": [],
   "source": [
    "vectorizer_curso = None\n",
    "stopwords = None\n",
    "tags = None\n",
    "#stemmer = None\n",
    "df_cursos = None\n",
    "df_cursos_tfidf = None\n",
    "\n",
    "vectorizer_tags = None\n",
    "df_tfidf_tags = None"
   ]
  },
  {
   "cell_type": "code",
   "execution_count": 13,
   "metadata": {},
   "outputs": [],
   "source": [
    "def _processar_texto(texto):\n",
    "    texto = ' '.join([w for w in nltk.word_tokenize(texto) \n",
    "                          if (w not in punctuation and w not in stopwords) \n",
    "                            and not (re.match('.*[\\d_].*', w) and w not in tags)\n",
    "                     ])\n",
    "    return texto\n",
    "\n",
    "def _aplicar_tfidf(textos):\n",
    "    matrix_tfidf = vectorizer_curso.transform(textos)\n",
    "    return _tfidf_to_dataframe(matrix_tfidf, vectorizer_curso)\n",
    "    \n",
    "\n",
    "def _tfidf_to_dataframe(tfidf, vectorizer):\n",
    "    return pd.DataFrame(\n",
    "        tfidf.todense(),\n",
    "        columns=vectorizer.get_feature_names()\n",
    "    )\n",
    "\n",
    "def _get_vectorizer():\n",
    "    return TfidfVectorizer(\n",
    "        lowercase=True,\n",
    "        use_idf=True,\n",
    "        max_df=1.0,\n",
    "        #stop_words = 'english'\n",
    "    )\n",
    "    \n",
    "def _get_vectorizer_tags():\n",
    "    return TfidfVectorizer(\n",
    "        lowercase=True,\n",
    "        use_idf=True,\n",
    "        max_df=1.0,\n",
    "        vocabulary=tags,\n",
    "        token_pattern='(?u)\\S\\S+' #Tokeniza as palavras apenas por espaço.\n",
    "    )\n",
    "\n",
    "def cursos_similares(search, max_cursos):\n",
    "    search = _processar_texto(search)\n",
    "    search_tfidf = _aplicar_tfidf([search])\n",
    "    \n",
    "    df_tfidf = df_cursos_tfidf.append(search_tfidf, ignore_index=True)\n",
    "    sim = cosine_similarity(df_tfidf)\n",
    "    index_cursos = pd.Series(sim[-1]).sort_values(ascending=False).index\n",
    "    \n",
    "    return df_cursos.reindex(index_cursos[1:max_cursos+1]).to_dict(orient='records')\n",
    "\n",
    "def _fit_vectorizer_tags_curso():\n",
    "    vectorizer_tags = _get_vectorizer_tags()\n",
    "    vectorizer_tags.fit(tags)\n",
    "    tfidf = vectorizer_tags.transform(tags)\n",
    "    df_tfidf = _tfidf_to_dataframe(tfidf, vectorizer_tags)\n",
    "    return df_tfidf, vectorizer_tags\n",
    "    \n",
    "def descobrir_tags_do_curso(desc_curso, corte_sim=0.20, max_tags=8):\n",
    "    tfidf = vectorizer_tags.transform(desc_curso)\n",
    "    df_tfidf_cursos = _tfidf_to_dataframe(tfidf, vectorizer_tags)\n",
    "    df = df_tfidf_tags.append(df_tfidf_cursos, ignore_index=True)\n",
    "    \n",
    "    sim = cosine_similarity(df)\n",
    "    sim = pd.Series(sim[-1][:-1])\n",
    "    sim = sim[sim > corte_sim]\n",
    "    \n",
    "    index_tags_sim = sim.sort_values(ascending=False).index\n",
    "    return pd.Series(tags)[index_tags_sim][:max_tags]  \n",
    "    \n",
    "\n",
    "def _inicializar():\n",
    "    global stopwords, df_cursos, df_cursos_tfidf, vectorizer_curso, tags, vectorizer_tags, df_tfidf_tags\n",
    "    \n",
    "    stopwords = nltk.corpus.stopwords.words('english')\n",
    "    #stemmer = nltk.stem.RSLPStemmer()\n",
    "    tags = pd.read_csv('../StackOverflowJobs/data/jobs_tags.csv').columns.tolist()\n",
    "    \n",
    "    df_cursos = pd.read_csv('data/cursos_udemy.csv')\n",
    "    df_cursos.fillna('', inplace=True)\n",
    "    if not 'doc' in df_cursos.columns:\n",
    "        df_cursos['doc'] = df_cursos.apply(lambda row: '%s %s %s'.join([row['title'], row['description'], row['what_learn']]), axis=1)\n",
    "        df_cursos['doc'] = df_cursos['doc'].apply(_processar_texto)\n",
    "    \n",
    "    vectorizer_curso = _get_vectorizer()\n",
    "    vectorizer_curso.fit(df_cursos['doc'])\n",
    "    df_cursos_tfidf = _aplicar_tfidf(df_cursos['doc'])\n",
    "            \n",
    "    df_tfidf_tags, vectorizer_tags = _fit_vectorizer_tags_curso()\n",
    "    \n",
    "_inicializar()\n"
   ]
  },
  {
   "cell_type": "code",
   "execution_count": null,
   "metadata": {
    "collapsed": true
   },
   "outputs": [],
   "source": []
  },
  {
   "cell_type": "code",
   "execution_count": 14,
   "metadata": {},
   "outputs": [
    {
     "data": {
      "text/plain": [
       "[{'description': \"Are you tired of boring the outdated and incomplete courses , then let's dive in to the world of Rest Api's.Well I'm Asfend Microsoft Most Valuable Professional (MVP) and in this course I'll explain what basically the Rest Api is and how you can create the Rest Api's in Asp.Net and C#.\\xa0\\nThe main focus of this course is on the\\xa0Restful Web Api via Asp.NET and\\xa0C#. So if you're familiar with C# , Asp.Net and Entity Framework Or if you want to create the Restful web api's in\\xa0Asp.Net\\xa0then this is the right course for you\\n\\n\\nIn this course you will learn how to create the REST\\xa0API via Code First and Database First Approach using ASP.NET\\xa0. Then you\\xa0will learn how to test your web api via Postman , Later in this course\\xa0you'll learn how to create Web Apps on Microsoft Azure and Publish your Restful Web Api's to Microsoft Azure Cloud. And then you'll\\xa0cover all the advanced concepts of Rest Api's like Sorting ,\\xa0Caching , Versioning , Security , Api Keys and OAuth2\\n\\n\\nBuild a strong foundation in REST Api's\\xa0with this tutorial .\\n\\n\\nA valuable\\xa0Skill at Your Fingertips\\xa0\\xa0Learning the Rest\\xa0Api 's\\xa0put\\xa0a powerful and attractive\\xa0look in your Resume\\xa0.Both\\xa0C#\\xa0and ASP.NET are\\xa0open source, easy to learn and\\xa0has an\\xa0excellent Microsoft\\xa0support.\\xa0\\nJobs in Rest Api's\\xa0are plentiful, and being able to learn the Web Api\\xa0's with a professional way\\xa0will give you a strong background to more easily pick up other challenging platforms and create the Rest Api's for other platforms.\\nContent and Overview\\xa0\\xa0Suitable for C# programmers, Asp.Net\\xa0Developers , Software engineers or Backend Developers.\\xa0Through this course , you’ll create a\\xa0 Restful Web Api\\xa0and establish a strong understanding of the concept behind Restful web api's.\\xa0\\n\\n\\nWhat am I going to get from this course?\",\n",
       "  'doc': \"Rest Api 's Asp.Net C sAre tired boring outdated incomplete courses let 's dive world Rest Api's.Well I 'm Asfend Microsoft Most Valuable Professional MVP course I 'll explain basically Rest Api create Rest Api 's Asp.Net C The main focus course Restful Web Api via Asp.NET C So 're familiar C Asp.Net Entity Framework Or want create Restful web api 's Asp.Net right course In course learn create REST API via Code First Database First Approach using ASP.NET Then learn test web api via Postman Later course 'll learn create Web Apps Microsoft Azure Publish Restful Web Api 's Microsoft Azure Cloud And cover advanced concepts Rest Api 's like Sorting Caching Versioning Security Api Keys Build strong foundation REST Api's tutorial A valuable Skill Your Fingertips Learning Rest Api 's put powerful attractive look Resume .Both C ASP.NET open source easy learn excellent Microsoft support Jobs Rest Api's plentiful able learn Web Api 's professional way give strong background easily pick challenging platforms create Rest Api 's platforms Content Overview Suitable C programmers Asp.Net Developers Software engineers Backend Developers Through course ’ create Restful Web Api establish strong understanding concept behind Restful web api 's What I going get course sAt end 'll able create REST Api 's In C Asp Dot Net Easily apply core concepts Restful Api 's Programming Language You 'll able Create Rest ful web api 's via Code First Database First Approach You Test Rest Api via Postman You 'll able learn HTTP Methods Verbs You learn Content Negotiation Status Codes Media Types You learn core concepts Web Api 's like Sorting Paging Searching Caching Testing Api 's etc You 'll able learn Advanced Concepts Web Api 's like Caching Versioning Security You 'll able Deploy Rest Api Microsoft Azure Cloud You 'll able secure Api via Api Key User Accounts Login\",\n",
       "  'id': 1481526,\n",
       "  'image_125_H': 'https://udemy-images.udemy.com/course/125_H/1481526_dc54.jpg',\n",
       "  'image_240x135': 'https://udemy-images.udemy.com/course/240x135/1481526_dc54.jpg',\n",
       "  'image_480x270': 'https://udemy-images.udemy.com/course/480x270/1481526_dc54.jpg',\n",
       "  'title': \"Rest Api's in Asp.Net and C#\",\n",
       "  'url': 'https://www.udemy.com/rest-apis-in-asp/',\n",
       "  'what_learn': \"At the end of this you'll be able to create REST Api's In C# and Asp Dot Net and Easily apply those core concepts of Restful Api's in some other Programming Language; You'll be able to Create Rest ful web api's via Code First and Database First Approach; You can Test the Rest Api via Postman; You'll be able to learn the HTTP Methods and Verbs; You can learn the Content Negotiation , Status Codes , Media Types; You can learn all the core concepts of Web Api's like Sorting , Paging , Searching , Caching , Testing Api's etc; You'll be able to learn all the Advanced Concepts of Web Api's like Caching , Versioning , Security , OAuth2; You'll be able to Deploy your Rest Api to Microsoft Azure Cloud; You'll be able to secure your Api via Api Key and User Accounts Login\"},\n",
       " {'description': \"Are you tired of boring the outdated and incomplete courses , then let's dive in to the world of Rest Api's.Well I'm Asfend Microsoft Most Valuable Professional (MVP) and in this course I'll explain what basically the Rest Api is and how you can create the Rest Api's in Asp.Net and C#.\\xa0\\nThe main focus of this course is on the\\xa0Restful Web Api via Asp.NET and\\xa0C#. So if you're familiar with C# , Asp.Net and Entity Framework Or if you want to create the Restful web api's in\\xa0Asp.Net\\xa0then this is the right course for you\\n\\n\\nIn this course you will learn how to create the REST\\xa0API via Code First and Database First Approach using ASP.NET\\xa0. Then you\\xa0will learn how to test your web api via Postman , Later in this course\\xa0you'll learn how to create Web Apps on Microsoft Azure and Publish your Restful Web Api's to Microsoft Azure Cloud. And then you'll\\xa0cover all the advanced concepts of Rest Api's like Sorting ,\\xa0Caching , Versioning , Security , Api Keys and OAuth2\\n\\n\\nBuild a strong foundation in REST Api's\\xa0with this tutorial .\\n\\n\\nA valuable\\xa0Skill at Your Fingertips\\xa0\\xa0Learning the Rest\\xa0Api 's\\xa0put\\xa0a powerful and attractive\\xa0look in your Resume\\xa0.Both\\xa0C#\\xa0and ASP.NET are\\xa0open source, easy to learn and\\xa0has an\\xa0excellent Microsoft\\xa0support.\\xa0\\nJobs in Rest Api's\\xa0are plentiful, and being able to learn the Web Api\\xa0's with a professional way\\xa0will give you a strong background to more easily pick up other challenging platforms and create the Rest Api's for other platforms.\\nContent and Overview\\xa0\\xa0Suitable for C# programmers, Asp.Net\\xa0Developers , Software engineers or Backend Developers.\\xa0Through this course , you’ll create a\\xa0 Restful Web Api\\xa0and establish a strong understanding of the concept behind Restful web api's.\\xa0\\n\\n\\nWhat am I going to get from this course?\",\n",
       "  'doc': \"Rest Api 's Asp.Net C sAre tired boring outdated incomplete courses let 's dive world Rest Api's.Well I 'm Asfend Microsoft Most Valuable Professional MVP course I 'll explain basically Rest Api create Rest Api 's Asp.Net C The main focus course Restful Web Api via Asp.NET C So 're familiar C Asp.Net Entity Framework Or want create Restful web api 's Asp.Net right course In course learn create REST API via Code First Database First Approach using ASP.NET Then learn test web api via Postman Later course 'll learn create Web Apps Microsoft Azure Publish Restful Web Api 's Microsoft Azure Cloud And cover advanced concepts Rest Api 's like Sorting Caching Versioning Security Api Keys Build strong foundation REST Api's tutorial A valuable Skill Your Fingertips Learning Rest Api 's put powerful attractive look Resume .Both C ASP.NET open source easy learn excellent Microsoft support Jobs Rest Api's plentiful able learn Web Api 's professional way give strong background easily pick challenging platforms create Rest Api 's platforms Content Overview Suitable C programmers Asp.Net Developers Software engineers Backend Developers Through course ’ create Restful Web Api establish strong understanding concept behind Restful web api 's What I going get course sAt end 'll able create REST Api 's In C Asp Dot Net Easily apply core concepts Restful Api 's Programming Language You 'll able Create Rest ful web api 's via Code First Database First Approach You Test Rest Api via Postman You 'll able learn HTTP Methods Verbs You learn Content Negotiation Status Codes Media Types You learn core concepts Web Api 's like Sorting Paging Searching Caching Testing Api 's etc You 'll able learn Advanced Concepts Web Api 's like Caching Versioning Security You 'll able Deploy Rest Api Microsoft Azure Cloud You 'll able secure Api via Api Key User Accounts Login\",\n",
       "  'id': 1481526,\n",
       "  'image_125_H': 'https://udemy-images.udemy.com/course/125_H/1481526_dc54.jpg',\n",
       "  'image_240x135': 'https://udemy-images.udemy.com/course/240x135/1481526_dc54.jpg',\n",
       "  'image_480x270': 'https://udemy-images.udemy.com/course/480x270/1481526_dc54.jpg',\n",
       "  'title': \"Rest Api's in Asp.Net and C#\",\n",
       "  'url': 'https://www.udemy.com/rest-apis-in-asp/',\n",
       "  'what_learn': \"At the end of this you'll be able to create REST Api's In C# and Asp Dot Net and Easily apply those core concepts of Restful Api's in some other Programming Language; You'll be able to Create Rest ful web api's via Code First and Database First Approach; You can Test the Rest Api via Postman; You'll be able to learn the HTTP Methods and Verbs; You can learn the Content Negotiation , Status Codes , Media Types; You can learn all the core concepts of Web Api's like Sorting , Paging , Searching , Caching , Testing Api's etc; You'll be able to learn all the Advanced Concepts of Web Api's like Caching , Versioning , Security , OAuth2; You'll be able to Deploy your Rest Api to Microsoft Azure Cloud; You'll be able to secure your Api via Api Key and User Accounts Login\"},\n",
       " {'description': \"Are you tired of boring the outdated and incomplete courses , then let's dive in to the world of Rest Api's.Well I'm\\xa0Asfend Microsoft Most Valuable Professional (MVP)\\xa0and in this course I'll explain what basically the Rest Api is and how you can create the Rest Api's in Asp.Net Core and C#.\\xa0\\nThe main focus of this course is on the\\xa0Restful Web Api via Asp.NET Core and\\xa0C#. So if you're familiar with C# , Asp.Net and Entity Framework Or if you want to create the Restful web api's in\\xa0Asp.Net\\xa0then this is the right course for you\\nIn this course you will learn how to create the REST\\xa0API via Code First Approach using Entity Framework\\xa0. Then you\\xa0will learn how to test your web api via Postman , Later in this course\\xa0you'll learn how to create Web Apps on Microsoft Azure and Publish your Restful Web Api's to Microsoft Azure Cloud. And then you'll\\xa0cover all the advanced concepts of Rest Api's like Sorting , Paging , Validations\\xa0,Versioning , Api\\xa0Documentation\\nBuild a strong foundation in REST Api's\\xa0with this tutorial .\\nA valuable\\xa0Skill at Your Fingertips\\xa0\\xa0Learning the Rest\\xa0Api 's\\xa0put\\xa0a powerful and attractive\\xa0look in your Resume\\xa0.Both\\xa0C#\\xa0and ASP.NET are\\xa0open source, easy to learn and\\xa0has an\\xa0excellent Microsoft\\xa0support.\\xa0\\nJobs in Rest Api's\\xa0are plentiful, and being able to learn the Web Api\\xa0's with a professional way\\xa0will give you a strong background to more easily pick up other challenging platforms and create the Rest Api's for other platforms.\\nContent and Overview\\xa0\\xa0Suitable for C# programmers, Asp.Net\\xa0Developers , Software engineers or Backend Developers.\\xa0Through this course , you’ll create a\\xa0 Restful Web Api\\xa0and establish a strong understanding of the concept behind Restful web api's.\\xa0\\nWhat am I going to get from this course?\",\n",
       "  'doc': \"Rest Api 's Asp.Net Core C sAre tired boring outdated incomplete courses let 's dive world Rest Api's.Well I'm Asfend Microsoft Most Valuable Professional MVP course I 'll explain basically Rest Api create Rest Api 's Asp.Net Core C The main focus course Restful Web Api via Asp.NET Core C So 're familiar C Asp.Net Entity Framework Or want create Restful web api 's Asp.Net right course In course learn create REST API via Code First Approach using Entity Framework Then learn test web api via Postman Later course 'll learn create Web Apps Microsoft Azure Publish Restful Web Api 's Microsoft Azure Cloud And cover advanced concepts Rest Api 's like Sorting Paging Validations Versioning Api Documentation Build strong foundation REST Api's tutorial A valuable Skill Your Fingertips Learning Rest Api 's put powerful attractive look Resume .Both C ASP.NET open source easy learn excellent Microsoft support Jobs Rest Api's plentiful able learn Web Api 's professional way give strong background easily pick challenging platforms create Rest Api 's platforms Content Overview Suitable C programmers Asp.Net Developers Software engineers Backend Developers Through course ’ create Restful Web Api establish strong understanding concept behind Restful web api 's What I going get course sAt end 'll able create REST Api 's In Asp Dot Net Core Easily apply core concepts Restful Api 's Programming Language You 'll able Create Rest ful web api 's via Code First Entity Framework You Test Rest Api via Postman You 'll able learn HTTP Methods Verbs You learn Content Negotiation Status Codes Media Types You learn core concepts Web Api 's like Sorting Paging Searching Testing Api 's etc You 'll able learn Advanced Concepts Web Api 's like Api Documentation Versioning Deployment You 'll able Deploy Rest Api Microsoft Azure Cloud\",\n",
       "  'id': 1563268,\n",
       "  'image_125_H': 'https://udemy-images.udemy.com/course/125_H/1563268_6bc6.jpg',\n",
       "  'image_240x135': 'https://udemy-images.udemy.com/course/240x135/1563268_6bc6.jpg',\n",
       "  'image_480x270': 'https://udemy-images.udemy.com/course/480x270/1563268_6bc6.jpg',\n",
       "  'title': \"Rest Api's in Asp.Net Core and C#\",\n",
       "  'url': 'https://www.udemy.com/rest-apis-in-aspnet-core/',\n",
       "  'what_learn': \"At the end of this you'll be able to create REST Api's In Asp Dot Net Core and Easily apply those core concepts of Restful Api's in some other Programming Language; You'll be able to Create Rest ful web api's via Code First with Entity Framework; You can Test the Rest Api via Postman; You'll be able to learn the HTTP Methods and Verbs; You can learn the Content Negotiation , Status Codes , Media Types; You can learn all the core concepts of Web Api's like Sorting , Paging , Searching ,  Testing Api's etc; You'll be able to learn all the Advanced Concepts of Web Api's like Api Documentation, Versioning , Deployment; You'll be able to Deploy your Rest Api to Microsoft Azure Cloud\"},\n",
       " {'description': 'Want to learn how to build REST API with Nodejs, ExpressJs and MongoDB ?? If yes, then this course is for you. In this course you will learn how to create MVC pattern REST\\xa0API architecture in Nodejs, communication with MongoDB using Mongoose, Securing API with JWT ( jsonwebtoken) and documenting API\\xa0using popular open source tool called swagger.\\nWe are in the world of REST\\xa0API architecture because of boom in the micro-services. Every company is moving toward REST API architecture from traditional monolithic server architecture. \\nWhat is REST API ?\\nA RESTful API is an application program interface (API) that uses\\xa0HTTP\\xa0requests to GET, PUT, POST and DELETE data.\\xa0 \\n\\nWhy MVC\\xa0Pattern in REST\\xa0API ? \\nMVC pattern/architecture allows you to decouple your code into various modules such as controller, services, models and routes so that you can scale your code without any burden of code maintenance as all the nodes in the MVC\\xa0architecture works in sync and as expected.\\n\\nYou will learning the following things in this course:\\n♦\\xa0 REST API in Nodejs and ExpressJs.\\n♦\\xa0 MVC Architecture in REST API Nodejs.\\n♦\\xa0 Interaction with MongoDB\\xa0in nodejs using mongoose.\\n♦\\xa0 Create, update, delete and find query using mongoose.\\n♦\\xa0 Create list pagination API using mongoose pagination query in Nodejs.\\n♦\\xa0 Secure REST API with JSONWEBTOKEN ( JWT ).\\n♦\\xa0 Use tools such as POSTMAN to test API.\\n♦\\xa0 Write middleware in Nodejs .\\n♦\\xa0 Joi object schema validation in Nodejs .\\n♦\\xa0 Gulp Tasks: nodemon, watch, gulp-yaml.\\n♦\\xa0 Host swagger documentation of your REST API on your API server itself.\\n♦\\xa0 Create Re-usable services in REST\\xa0API.\\n♦\\xa0 Enable Cross-Origin Resource Sharing (CORS) in Nodejs REST API.\\n♦\\xa0 Mongoose schema and models.\\n♦\\xa0 HTTP request basics: Request body, path params, query params and headers.\\n♦\\xa0 CRUD\\xa0API in Nodejs.\\n♦\\xa0 Login/Authenticate API\\xa0to generate token.\\n♦\\xa0 REST API Design.\\n♦ \\xa0Node and NPM.\\n♦ \\xa0and more.\\n\\n\\n\\n\\n',\n",
       "  'doc': 'Nodejs REST API JWT Security MongoDB Complete Guide sWant learn build REST API Nodejs ExpressJs MongoDB If yes course In course learn create MVC pattern REST API architecture Nodejs communication MongoDB using Mongoose Securing API JWT jsonwebtoken documenting API using popular open source tool called swagger We world REST API architecture boom micro-services Every company moving toward REST API architecture traditional monolithic server architecture What REST API A RESTful API application program interface API uses HTTP requests GET PUT POST DELETE data Why MVC Pattern REST API MVC pattern/architecture allows decouple code various modules controller services models routes scale code without burden code maintenance nodes MVC architecture works sync expected You learning following things course ♦ REST API Nodejs ExpressJs ♦ MVC Architecture REST API Nodejs ♦ Interaction MongoDB nodejs using mongoose ♦ Create update delete find query using mongoose ♦ Create list pagination API using mongoose pagination query Nodejs ♦ Secure REST API JSONWEBTOKEN JWT ♦ Use tools POSTMAN test API ♦ Write middleware Nodejs ♦ Joi object schema validation Nodejs ♦ Gulp Tasks nodemon watch gulp-yaml ♦ Host swagger documentation REST API API server ♦ Create Re-usable services REST API ♦ Enable Cross-Origin Resource Sharing CORS Nodejs REST API ♦ Mongoose schema models ♦ HTTP request basics Request body path params query params headers ♦ CRUD API Nodejs ♦ Login/Authenticate API generate token ♦ REST API Design ♦ Node NPM ♦ sREST API Nodejs Expressjs MVC architecture Secure REST API JSONWEBTOKEN JWT Swagger documentation REST API API server REST API Design MongoDB Mongoose schema models Create Re-usable services REST API Login/Authenticate API generate token CRUD API Nodejs Create update delete find query using mongoose Create list pagination API using mongoose pagination query Nodejs',\n",
       "  'id': 2017822,\n",
       "  'image_125_H': 'https://udemy-images.udemy.com/course/125_H/2017822_0840_9.jpg',\n",
       "  'image_240x135': 'https://udemy-images.udemy.com/course/240x135/2017822_0840_9.jpg',\n",
       "  'image_480x270': 'https://udemy-images.udemy.com/course/480x270/2017822_0840_9.jpg',\n",
       "  'title': 'Nodejs REST API with JWT Security & MongoDB - Complete Guide',\n",
       "  'url': 'https://www.udemy.com/nodejs-rest-api-jwt-security-mongodb-complete-guide/',\n",
       "  'what_learn': 'REST API in Nodejs, Expressjs with MVC architecture.; Secure REST API with JSONWEBTOKEN ( JWT ); Swagger documentation of your REST API on your API server itself.; REST API Design.; MongoDB Mongoose schema and models.; Create Re-usable services in REST\\xa0API.; Login/Authenticate API\\xa0to generate token.; CRUD\\xa0API in Nodejs; Create, update, delete and find query using mongoose.; Create list pagination API using mongoose pagination query in Nodejs.'},\n",
       " {'description': 'A powerful GUI platform to make your API development faster & easier, from building API requests through testing, documentation and sharing.\\nThis Course explains\\n·What are the Webservices\\n·How to Test the Rest API using Postman\\n·Differences btween Soap and Rest Services\\n·Postman\\xa0Features\\n·What are Rest API\\n·Testing Resting API\\nThis course will take you from basic to advance concepts of Postman tool, it will give regular exercise so that individual can practice while learning\\n\\n',\n",
       "  'doc': 'Rest api testing using Postman tool sA powerful GUI platform make API development faster easier building API requests testing documentation sharing This Course explains ·What Webservices ·How Test Rest API using Postman ·Differences btween Soap Rest Services ·Postman Features ·What Rest API ·Testing Resting API This course take basic advance concepts Postman tool give regular exercise individual practice learning sReady automate complex Rest API Ready work API tester',\n",
       "  'id': 990536,\n",
       "  'image_125_H': 'https://udemy-images.udemy.com/course/125_H/990536_4796_2.jpg',\n",
       "  'image_240x135': 'https://udemy-images.udemy.com/course/240x135/990536_4796_2.jpg',\n",
       "  'image_480x270': 'https://udemy-images.udemy.com/course/480x270/990536_4796_2.jpg',\n",
       "  'title': 'Rest api testing using Postman tool',\n",
       "  'url': 'https://www.udemy.com/api-postman/',\n",
       "  'what_learn': 'Ready to automate complex Rest API; Ready to work as API tester'},\n",
       " {'description': '***Course last updated on March 9th with Json Utilities + Library API\\xa0examples*************REST\\xa0Assured API\\xa0is powerful API released by google (just like Selenium for Web)\\xa0\\xa0to Automate REST\\xa0API\\'s. \\xa070% of the IT industry now heading towards this API for automating ServicesLearn Everything You Need to Know About REST\\xa0API Automation Even If You\\'ve Never worked Before on this domain .\\xa0 \\xa0Course covers\\xa0Basics To Advanced Level With Rest Assured, Postman, Java, TestNG, Framework Implementation From Scratch\\xa0with rich examples like Jira, Twitter, Youtube, Google Maps API examples\\nWhat made this course Unique from other courses?\\xa0Only course on Internet which covers\\xa0on\\xa0 JIRA,\\xa0 TWITTER,\\xa0\\xa0GOOGLE MAPS AND YOUTUBE API\\xa0\\xa0examples\"\\n---> No other course covers topics covered in this course with such great depth of detail. For proof,\\xa0You can cross check with other tutorials if they cover Jira youtube etc,,\\n********************* WHAT MAKES THIS COURSE BEST?\\xa0 *****************************\\nWe assume that students have no experience in automation/coding and start every topic from scratch and basics.\\n\\nExamples are taken from TESTING REAL TIME HOSTED Rest APIs to\\n understand how different components can be automated, that will give \\nyou idea of industry level framework and give you confidence.\\n\\nNO PRIOR CODING OR AUTOMATION EXPERIENCE NEEDED, this course covers all the necessary topics.\\n\\n\\nGet more than 30 hours of unique content with real example code files provided to refer and learn with examples.\\n\\n\\n********************************************************************************************\\nCourse is prepared on utmost care of picking real world scenarios what actually industry does in testing the REST API\\'s and they were neatly delivered with every basic concept till framework building level\\n\\nOn course completion You will be Mastered in REST API Automation\\xa0\\xa0and can implement Successfully it in your work place or will surely land on\\xa0High Paying Job\\n\\n\\xa0We start from Beginners level and go through Advanced FRAMEWORK level. This is a single course for \\neverything you need to know related to Rest API Manual testing and Automation.\\nThis course explains :\\nWhat is REST API\\'s?Understanding the REST\\xa0API\\xa0architectureTerminologies such as Endpoint, Resources,Payload,ParametersWhat is POSTMAN?How to test API\\'s with Postman?Different type of REST\\xa0requestsWhat is REST ASSured?Setting up REST ASSURED environment for automationDiscussion on google API\\'s for automationREST\\xa0Assured methodsREST\\xa0Assured validationsMethods to validate Json and xpath responsesOptimizing scripts to Framwork standardsDiscussion on JIRA API\\'sDiscussion on Twitter\\xa0API\\'sUnderstanding OAUTH authenticationTons of examples on automating API\\'s with rest assured validationsLogging feature to log responsesMigrating project to TESTNG frameworkBuilding Maven setup as build management tool\\xa0Creating BAT file to run whole project on single click\\n\\nAt the end of this course you can pick any REST\\xa0API\\xa0over Net\\xa0and can automate it comfortably with all necessary valdiations\\nHappy Testing and Wish you Good luck!!!!!!!\\n',\n",
       "  'doc': \"REST API Testing Automation scratch-Rest Assured java s***Course last updated March Json Utilities Library API examples*************REST Assured API powerful API released google like Selenium Web Automate REST API 's IT industry heading towards API automating ServicesLearn Everything You Need Know About REST API Automation Even If You 've Never worked Before domain Course covers Basics To Advanced Level With Rest Assured Postman Java TestNG Framework Implementation From Scratch rich examples like Jira Twitter Youtube Google Maps API examples What made course Unique courses Only course Internet covers JIRA TWITTER GOOGLE MAPS AND YOUTUBE API examples '' -- No course covers topics covered course great depth detail For proof You cross check tutorials cover Jira youtube etc ********************* WHAT MAKES THIS COURSE BEST ***************************** We assume students experience automation/coding start every topic scratch basics Examples taken TESTING REAL TIME HOSTED Rest APIs understand different components automated give idea industry level framework give confidence NO PRIOR CODING OR AUTOMATION EXPERIENCE NEEDED course covers necessary topics Get hours unique content real example code files provided refer learn examples ******************************************************************************************** Course prepared utmost care picking real world scenarios actually industry testing REST API 's neatly delivered every basic concept till framework building level On course completion You Mastered REST API Automation implement Successfully work place surely land High Paying Job We start Beginners level go Advanced FRAMEWORK level This single course everything need know related Rest API Manual testing Automation This course explains What REST API 's Understanding REST API architectureTerminologies Endpoint Resources Payload ParametersWhat POSTMAN How test API 's Postman Different type REST requestsWhat REST ASSured Setting REST ASSURED environment automationDiscussion google API 's automationREST Assured methodsREST Assured validationsMethods validate Json xpath responsesOptimizing scripts Framwork standardsDiscussion JIRA API'sDiscussion Twitter API'sUnderstanding OAUTH authenticationTons examples automating API 's rest assured validationsLogging feature log responsesMigrating project TESTNG frameworkBuilding Maven setup build management tool Creating BAT file run whole project single click At end course pick REST API Net automate comfortably necessary valdiations Happy Testing Wish Good luck sBy end course You get complete knowledge REST API Automation testing You able DESIGN IMPLEMENT structured AUTOMATION FRAMEWORKS REST Assured API In-depth understanding REST API Automation using RestAssured real time examples Thorough knowledge REST testing tools like POSTMAN REST CLIENT etc ***** We dedicated INSTRUCTORS help queries within HOURS resume preparation Interview questions Additional knowledge generating excellent client reports API Test execution results\",\n",
       "  'id': 694982,\n",
       "  'image_125_H': 'https://udemy-images.udemy.com/course/125_H/694982_33b0.jpg',\n",
       "  'image_240x135': 'https://udemy-images.udemy.com/course/240x135/694982_33b0.jpg',\n",
       "  'image_480x270': 'https://udemy-images.udemy.com/course/480x270/694982_33b0.jpg',\n",
       "  'title': 'REST API Testing(Automation) from scratch-Rest Assured java',\n",
       "  'url': 'https://www.udemy.com/rest-api-automation-testing-rest-assured/',\n",
       "  'what_learn': 'By end of this course,You will get complete knowledge on REST API Automation testing; You will be able to  DESIGN and IMPLEMENT structured AUTOMATION FRAMEWORKS with REST Assured API; In-depth understanding of REST API Automation using RestAssured with real time examples; Thorough knowledge on REST testing tools like POSTMAN, REST CLIENT etc; ***** We have 10 dedicated INSTRUCTORS to help you with queries within 24 HOURS, resume preparation, Interview questions; Additional knowledge on generating excellent client reports for API Test execution results'},\n",
       " {'description': \"API Testing online training course is designed to make you an expert in working with Backend Testing. Our Industry Experts have more experience in working with Backend Testing, and will ensure that you get trained and become expert in Rest Assured Testing.\\n\\nWhy this course?\\xa0\\nREST\\xa0Assured API\\xa0is powerful API released by google (just like Selenium for Web)\\xa0\\xa0to Automate REST\\xa0API's. \\xa0\\nIn the 21st century, almost all web applications use web services to communicate or interact with each other. Most modern day web services are built on Representational state transfer (REST) architecture; REST has gained a lot of popularity and it will continue to do the same due to its simplicity in comparison with other technologies.\\n90%of the IT industry now heading towards this API for automating Services\\nLearn Everything You Need to Know About REST\\xa0API Automation\\xa0Even If You've Never worked Before on this domain .\\xa0 \\xa0\\nCourse covers\\xa0Basics To Advanced Level With\\xa0Rest Assured,\\xa0Postman,\\xa0Java,\\xa0TestNG, RestAssured\\xa0Framework Implementation & HTTP Client Framework implementation\\xa0From Scratch\\xa0with rich examples.\\nOn course completion You will be Mastered in REST API Automation\\xa0\\xa0and can implement Successfully it in your work place or will surely land on\\xa0High Paying Job.\\n\\n\\xa0We start from\\xa0Beginners level\\xa0and go through\\xa0Advanced FRAMEWORK level. This is a single course for everything you need to know related to\\xa0Rest API Manual testing and Automation.\\nThis course explains\\xa0:\\n\\n*******************************************************************\\nWhat is API and WebServices\\nREST and SOAP Base API Testing\\nREST API Basics and Terminology\\nGetting started with REST API Testing\\nClient-Server Architecture\\nHTTP Protocol\\nREST API Requests and Response\\nREST API Testing using POSTMAN\\nJSON/XML Parsers\\nTestNG Automation Framework for REST Testing\\nCore Java Concepts for F/W implementation\\nAPI Automations\\nREST API Java Framework Design and Implementation\\nREST API Framework CI with Jenkins, GIT\\nPlay Around JSON\\nJSON with Jackson Library\\nSupplement Tutorials and Resources\\nAPI Automation Tips & Tricks and Interview Material\\xa0\\n*****************************************************************************\\nAt the end of this course you can pick any REST\\xa0API\\xa0over Net\\xa0and can automate it comfortably with all necessary valdiations\\nHappy Testing and Wish you Good luck!!!!!!!\",\n",
       "  'doc': \"REST API Testing Automation REST Assured Java POSTMAN sAPI Testing online training course designed make expert working Backend Testing Our Industry Experts experience working Backend Testing ensure get trained become expert Rest Assured Testing Why course REST Assured API powerful API released google like Selenium Web Automate REST API 's In century almost web applications use web services communicate interact Most modern day web services built Representational state transfer REST architecture REST gained lot popularity continue due simplicity comparison technologies IT industry heading towards API automating Services Learn Everything You Need Know About REST API Automation Even If You 've Never worked Before domain Course covers Basics To Advanced Level With Rest Assured Postman Java TestNG RestAssured Framework Implementation HTTP Client Framework implementation From Scratch rich examples On course completion You Mastered REST API Automation implement Successfully work place surely land High Paying Job We start Beginners level go Advanced FRAMEWORK level This single course everything need know related Rest API Manual testing Automation This course explains ******************************************************************* What API WebServices REST SOAP Base API Testing REST API Basics Terminology Getting started REST API Testing Client-Server Architecture HTTP Protocol REST API Requests Response REST API Testing using POSTMAN JSON/XML Parsers TestNG Automation Framework REST Testing Core Java Concepts F/W implementation API Automations REST API Java Framework Design Implementation REST API Framework CI Jenkins GIT Play Around JSON JSON Jackson Library Supplement Tutorials Resources API Automation Tips Tricks Interview Material ***************************************************************************** At end course pick REST API Net automate comfortably necessary valdiations Happy Testing Wish Good luck sAt end Course able understand Webservices functionality Ready design REST API Testing automation framework Ready face REST API automation interviews You understand generate neat reports execution results Thorough knowledge REST testing tools like POSTMAN REST CLIENT etc You able DESIGN IMPLEMENT structured AUTOMATION FRAMEWORKS REST Assured API You able DESIGN IMPLEMENT structured AUTOMATION FRAMEWORKS HTTP Client You able deal JSON using Jackson library\",\n",
       "  'id': 1449262,\n",
       "  'image_125_H': 'https://udemy-images.udemy.com/course/125_H/1449262_3a67_6.jpg',\n",
       "  'image_240x135': 'https://udemy-images.udemy.com/course/240x135/1449262_3a67_6.jpg',\n",
       "  'image_480x270': 'https://udemy-images.udemy.com/course/480x270/1449262_3a67_6.jpg',\n",
       "  'title': 'REST API Testing Automation: REST Assured with Java, POSTMAN',\n",
       "  'url': 'https://www.udemy.com/api-testing-rest-api-automation-testing-from-scratch/',\n",
       "  'what_learn': 'At the end of this Course you will be able to understand what the Webservices are, and their functionality.; Ready to design REST API Testing automation framework; Ready to face REST API automation interviews; You will understand how to generate neat reports for execution results; Thorough knowledge on REST testing tools like POSTMAN, REST CLIENT etc; You will be able to DESIGN and IMPLEMENT structured AUTOMATION FRAMEWORKS with REST Assured API; You will be able to DESIGN and IMPLEMENT structured AUTOMATION FRAMEWORKS with HTTP Client; You will be able to deal with JSON using the Jackson library'},\n",
       " {'description': 'This Web API test checks your basic knowledge of ASP.NET Web API. It includes 20 questions and each question includes 4 options. Select an appropriate answer out of 4 options. There is no time limit for this test.\\nThis online test includes questions related to Web API basics, controller, routing, configuration, parameter binding etc. Visit Web API tutorials if you want to refer it before giving the test.',\n",
       "  'doc': 'ASP.Net WEB API Online Test sThis Web API test checks basic knowledge ASP.NET Web API It includes questions question includes options Select appropriate answer options There time limit test This online test includes questions related Web API basics controller routing configuration parameter binding etc Visit Web API tutorials want refer giving test.',\n",
       "  'id': 1447644,\n",
       "  'image_125_H': 'https://www.udemy.com/staticx/udemy/images/course/125_H/placeholder.png',\n",
       "  'image_240x135': 'https://www.udemy.com/staticx/udemy/images/course/240x135/placeholder.png',\n",
       "  'image_480x270': 'https://www.udemy.com/staticx/udemy/images/course/480x270/placeholder.png',\n",
       "  'title': 'ASP.Net WEB API Online Test',\n",
       "  'url': 'https://www.udemy.com/aspnet-web-api/',\n",
       "  'what_learn': ''},\n",
       " {'description': 'This Web API test checks your basic knowledge of ASP.NET Web API. It includes 20 questions and each question includes 4 options. Select an appropriate answer out of 4 options. There is no time limit for this test.\\nThis online test includes questions related to Web API basics, controller, routing, configuration, parameter binding etc. Visit Web API tutorials if you want to refer it before giving the test.',\n",
       "  'doc': 'ASP.Net WEB API Online Test sThis Web API test checks basic knowledge ASP.NET Web API It includes questions question includes options Select appropriate answer options There time limit test This online test includes questions related Web API basics controller routing configuration parameter binding etc Visit Web API tutorials want refer giving test.',\n",
       "  'id': 1447644,\n",
       "  'image_125_H': 'https://www.udemy.com/staticx/udemy/images/course/125_H/placeholder.png',\n",
       "  'image_240x135': 'https://www.udemy.com/staticx/udemy/images/course/240x135/placeholder.png',\n",
       "  'image_480x270': 'https://www.udemy.com/staticx/udemy/images/course/480x270/placeholder.png',\n",
       "  'title': 'ASP.Net WEB API Online Test',\n",
       "  'url': 'https://www.udemy.com/aspnet-web-api/',\n",
       "  'what_learn': ''},\n",
       " {'description': \"Learn\\n the basic concepts of API's to include HTTP based REST with JSON \\npayloads. Learn how to create a working system with Node.js using the Express.js framework. Learn how \\nto create an API that connects to MongoDB. We walk thru creating some \\nsimple API's and follow thru with deployment onto a \\nserver. This development is presented on a Mac OSX with Node.js 4 and \\ndeployed on a Linux server in a cloud environment (Amazon EC2).\\n\\nBuild\\n a strong foundation in API development with Node.js. This course helps you \\nunderstand and implement API's using Node.js, Express.js and MongoDB technologies to allow you to create your own back end server with the \\nlatest technologies.\\n\\n\\n\\nProfessional skills and experience from an iOS / Node.js Architect with over 8 years experience.\\n\\nLearn\\n the fundamentals but also tips and tricks of the experts. Learn about \\nthe different type of API end points and how to create a full end to end solution. \\nWe will walk thru the project setup and \\nall required elements to create a full end to end API server.\\nContent and Overview \\nThis\\n course explains key technology concepts of API's with REST and JSON \\ntechnology in a Node.js system. We show development from start to finish to\\n include deployment on a live production server not just a test machine.\\nWhat am I going to get from this course?\\nIf you don't have a a production server device don't worry, we show you how to test everything on your local computer.\\nNote: Development is all described on a Mac OSX notebook, Windows is \\nnot address. Node.js using JavaScript is a portable language and all the tools described in \\nthis class are available on other systems as well but no intention is made to \\ndescribe how to setup them up of use the Windows or Linux versions.\\n\",\n",
       "  'doc': \"Learn Node.js API 's Fast Simple sLearn basic concepts API 's include HTTP based REST JSON payloads Learn create working system Node.js using Express.js framework Learn create API connects MongoDB We walk thru creating simple API 's follow thru deployment onto server This development presented Mac OSX Node.js deployed Linux server cloud environment Amazon Build strong foundation API development Node.js This course helps understand implement API 's using Node.js Express.js MongoDB technologies allow create back end server latest technologies Professional skills experience iOS Node.js Architect years experience Learn fundamentals also tips tricks experts Learn different type API end points create full end end solution We walk thru project setup required elements create full end end API server Content Overview This course explains key technology concepts API 's REST JSON technology Node.js system We show development start finish include deployment live production server test machine What I going get course If n't production server device n't worry show test everything local computer Note Development described Mac OSX notebook Windows address Node.js using JavaScript portable language tools described class available systems well intention made describe setup use Windows Linux versions sStudents able create Node.js based API end point Students understand technology API 's REST JSON integrate Node.js server Students understand create API connects MongoDB Students understand create API connects MongoDB\",\n",
       "  'id': 941024,\n",
       "  'image_125_H': 'https://udemy-images.udemy.com/course/125_H/941024_0252.jpg',\n",
       "  'image_240x135': 'https://udemy-images.udemy.com/course/240x135/941024_0252.jpg',\n",
       "  'image_480x270': 'https://udemy-images.udemy.com/course/480x270/941024_0252.jpg',\n",
       "  'title': \"Learn Node.js API's Fast and Simple\",\n",
       "  'url': 'https://www.udemy.com/learn-nodejs-apis-fast-and-simple/',\n",
       "  'what_learn': \"Students will be able to create a Node.js based API end point.; Students will understand technology for API's, REST, JSON and how to integrate into a Node.js server.; Students will understand how to create an API that connects with MongoDB; Students will understand how to create an API that connects with MongoDB\"}]"
      ]
     },
     "execution_count": 14,
     "metadata": {},
     "output_type": "execute_result"
    }
   ],
   "source": [
    "cursos_similares('pytho djando api', 10)"
   ]
  },
  {
   "cell_type": "code",
   "execution_count": 15,
   "metadata": {
    "collapsed": true
   },
   "outputs": [],
   "source": [
    "df_cursos_tfidf.to_csv('data/cursos_tfidf.csv', index=False)"
   ]
  },
  {
   "cell_type": "code",
   "execution_count": 16,
   "metadata": {},
   "outputs": [
    {
     "data": {
      "text/plain": [
       "['data/vectorizer_cursos.dat']"
      ]
     },
     "execution_count": 16,
     "metadata": {},
     "output_type": "execute_result"
    }
   ],
   "source": [
    "joblib.dump(vectorizer_curso, 'data/vectorizer_cursos.dat')"
   ]
  },
  {
   "cell_type": "code",
   "execution_count": 17,
   "metadata": {},
   "outputs": [
    {
     "data": {
      "text/plain": [
       "['data/vectorizer_tags.dat']"
      ]
     },
     "execution_count": 17,
     "metadata": {},
     "output_type": "execute_result"
    }
   ],
   "source": [
    "joblib.dump(vectorizer_tags, 'data/vectorizer_tags.dat')"
   ]
  },
  {
   "cell_type": "code",
   "execution_count": 18,
   "metadata": {
    "collapsed": true
   },
   "outputs": [],
   "source": [
    "df_tfidf_tags.to_csv('data/tags_tfidf.csv', index=False)"
   ]
  },
  {
   "cell_type": "code",
   "execution_count": 21,
   "metadata": {},
   "outputs": [
    {
     "data": {
      "text/plain": [
       "(20, 9)"
      ]
     },
     "execution_count": 21,
     "metadata": {},
     "output_type": "execute_result"
    }
   ],
   "source": [
    "df_cursos.iloc[0:20].shape"
   ]
  },
  {
   "cell_type": "code",
   "execution_count": null,
   "metadata": {
    "collapsed": true
   },
   "outputs": [],
   "source": []
  }
 ],
 "metadata": {
  "kernelspec": {
   "display_name": "Python 3",
   "language": "python",
   "name": "python3"
  },
  "language_info": {
   "codemirror_mode": {
    "name": "ipython",
    "version": 3
   },
   "file_extension": ".py",
   "mimetype": "text/x-python",
   "name": "python",
   "nbconvert_exporter": "python",
   "pygments_lexer": "ipython3",
   "version": "3.6.3"
  }
 },
 "nbformat": 4,
 "nbformat_minor": 2
}
