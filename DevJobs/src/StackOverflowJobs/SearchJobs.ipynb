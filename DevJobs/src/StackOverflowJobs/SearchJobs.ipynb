{
 "cells": [
  {
   "cell_type": "code",
   "execution_count": 1,
   "metadata": {},
   "outputs": [],
   "source": [
    "from sklearn.metrics.pairwise import cosine_similarity\n",
    "from sklearn.feature_extraction.text import TfidfVectorizer\n",
    "from sklearn.externals import joblib\n",
    "from string import punctuation\n",
    "import nltk, pandas as pd, re\n"
   ]
  },
  {
   "cell_type": "code",
   "execution_count": 11,
   "metadata": {},
   "outputs": [
    {
     "data": {
      "text/plain": [
       "(1050, 19)"
      ]
     },
     "execution_count": 11,
     "metadata": {},
     "output_type": "execute_result"
    }
   ],
   "source": [
    "df_jobs = pd.read_csv('data/Stack_Overflow_Jobs2.csv')\n",
    "df_jobs.shape"
   ]
  },
  {
   "cell_type": "code",
   "execution_count": 12,
   "metadata": {},
   "outputs": [
    {
     "data": {
      "text/html": [
       "<div>\n",
       "<style scoped>\n",
       "    .dataframe tbody tr th:only-of-type {\n",
       "        vertical-align: middle;\n",
       "    }\n",
       "\n",
       "    .dataframe tbody tr th {\n",
       "        vertical-align: top;\n",
       "    }\n",
       "\n",
       "    .dataframe thead th {\n",
       "        text-align: right;\n",
       "    }\n",
       "</style>\n",
       "<table border=\"1\" class=\"dataframe\">\n",
       "  <thead>\n",
       "    <tr style=\"text-align: right;\">\n",
       "      <th></th>\n",
       "      <th>title</th>\n",
       "      <th>tags</th>\n",
       "      <th>perks</th>\n",
       "      <th>country</th>\n",
       "      <th>location</th>\n",
       "      <th>company</th>\n",
       "      <th>company-size</th>\n",
       "      <th>company-type</th>\n",
       "      <th>description</th>\n",
       "      <th>experience-level</th>\n",
       "      <th>industry</th>\n",
       "      <th>job-type</th>\n",
       "      <th>link</th>\n",
       "      <th>posted</th>\n",
       "      <th>moeda_original</th>\n",
       "      <th>role</th>\n",
       "      <th>salary_min</th>\n",
       "      <th>salary_max</th>\n",
       "      <th>salary_mean</th>\n",
       "    </tr>\n",
       "  </thead>\n",
       "  <tbody>\n",
       "    <tr>\n",
       "      <th>0</th>\n",
       "      <td>Data Scientist</td>\n",
       "      <td>python, medical, data-science</td>\n",
       "      <td>Paid relocation</td>\n",
       "      <td>Massachusetts, EUA</td>\n",
       "      <td>Boston</td>\n",
       "      <td>Etiometry Inc.\\n</td>\n",
       "      <td>50</td>\n",
       "      <td>Private</td>\n",
       "      <td>\\nWe are currently seeking a Data Scientist to...</td>\n",
       "      <td>Mid-Level</td>\n",
       "      <td>Data &amp; Analytics, Healthcare, Medical Software</td>\n",
       "      <td>Full-time</td>\n",
       "      <td>/jobs/199604/data-scientist-etiometry-inc</td>\n",
       "      <td>2019-01-07 19:51:19.033107</td>\n",
       "      <td>-</td>\n",
       "      <td>Data Scientist</td>\n",
       "      <td>0</td>\n",
       "      <td>0</td>\n",
       "      <td>0.0</td>\n",
       "    </tr>\n",
       "    <tr>\n",
       "      <th>1</th>\n",
       "      <td>Senior Platform Developer (Backend Developer)</td>\n",
       "      <td>ruby-on-rails, elixir</td>\n",
       "      <td>NaN</td>\n",
       "      <td>Califórnia, EUA</td>\n",
       "      <td>San Francisco</td>\n",
       "      <td>The Real Real\\n</td>\n",
       "      <td>5000</td>\n",
       "      <td>Private</td>\n",
       "      <td>\\nThe RealReal is leading the way in authentic...</td>\n",
       "      <td>Mid-Level, Senior, Lead</td>\n",
       "      <td>eCommerce, Fashion, Retail</td>\n",
       "      <td>Full-time</td>\n",
       "      <td>/jobs/199609/senior-platform-developer-backend...</td>\n",
       "      <td>2019-01-07 21:51:19.064124</td>\n",
       "      <td>-</td>\n",
       "      <td>Backend Developer</td>\n",
       "      <td>0</td>\n",
       "      <td>0</td>\n",
       "      <td>0.0</td>\n",
       "    </tr>\n",
       "    <tr>\n",
       "      <th>2</th>\n",
       "      <td>Senior Platform Engineer</td>\n",
       "      <td>node.js, mysql, rest, ecmascript-6, javascript</td>\n",
       "      <td>NaN</td>\n",
       "      <td>Califórnia, EUA</td>\n",
       "      <td>San Francisco</td>\n",
       "      <td>Pear Therapeutics\\n</td>\n",
       "      <td>200</td>\n",
       "      <td>Private</td>\n",
       "      <td>\\nAbout Pear Therapeutics \\nAt Pear, our missi...</td>\n",
       "      <td>Mid-Level, Senior</td>\n",
       "      <td>Biotechnology</td>\n",
       "      <td>Full-time</td>\n",
       "      <td>/jobs/204842/senior-platform-engineer-pear-the...</td>\n",
       "      <td>2019-01-07 21:51:19.095266</td>\n",
       "      <td>-</td>\n",
       "      <td>Full Stack Developer</td>\n",
       "      <td>0</td>\n",
       "      <td>0</td>\n",
       "      <td>0.0</td>\n",
       "    </tr>\n",
       "    <tr>\n",
       "      <th>3</th>\n",
       "      <td>Senior Java Developer</td>\n",
       "      <td>java-ee, spring, oracle, weblogic, jboss</td>\n",
       "      <td>Remote</td>\n",
       "      <td>Califórnia, EUA</td>\n",
       "      <td>Los Angeles</td>\n",
       "      <td>Integrated Data Services (IDS)\\n</td>\n",
       "      <td>200</td>\n",
       "      <td>Private</td>\n",
       "      <td>\\nSenior Java Developer\\nLos Angeles, CA; Wash...</td>\n",
       "      <td>Senior</td>\n",
       "      <td>Financial Technology, Government, Software Dev...</td>\n",
       "      <td>Full-time</td>\n",
       "      <td>/jobs/157266/senior-java-developer-integrated-...</td>\n",
       "      <td>2019-01-07 21:51:19.125580</td>\n",
       "      <td>-</td>\n",
       "      <td>Full Stack Developer</td>\n",
       "      <td>0</td>\n",
       "      <td>0</td>\n",
       "      <td>0.0</td>\n",
       "    </tr>\n",
       "    <tr>\n",
       "      <th>4</th>\n",
       "      <td>Senior Oracle PLSQL Developer</td>\n",
       "      <td>plsql, oracle, sql, rdbms, database, sysadmin</td>\n",
       "      <td>Remote</td>\n",
       "      <td>Califórnia, EUA</td>\n",
       "      <td>Los Angeles</td>\n",
       "      <td>Integrated Data Services (IDS)\\n</td>\n",
       "      <td>200</td>\n",
       "      <td>Private</td>\n",
       "      <td>\\nSenior Oracle PLSQL Developer\\nLos Angeles, ...</td>\n",
       "      <td>Senior</td>\n",
       "      <td>Financial Technology, Government, Software Dev...</td>\n",
       "      <td>Full-time</td>\n",
       "      <td>/jobs/141988/senior-oracle-plsql-developer-int...</td>\n",
       "      <td>2019-01-07 21:51:19.160225</td>\n",
       "      <td>-</td>\n",
       "      <td>Database Administrator</td>\n",
       "      <td>0</td>\n",
       "      <td>0</td>\n",
       "      <td>0.0</td>\n",
       "    </tr>\n",
       "  </tbody>\n",
       "</table>\n",
       "</div>"
      ],
      "text/plain": [
       "                                           title  \\\n",
       "0                                 Data Scientist   \n",
       "1  Senior Platform Developer (Backend Developer)   \n",
       "2                       Senior Platform Engineer   \n",
       "3                          Senior Java Developer   \n",
       "4                  Senior Oracle PLSQL Developer   \n",
       "\n",
       "                                             tags            perks  \\\n",
       "0                   python, medical, data-science  Paid relocation   \n",
       "1                           ruby-on-rails, elixir              NaN   \n",
       "2  node.js, mysql, rest, ecmascript-6, javascript              NaN   \n",
       "3        java-ee, spring, oracle, weblogic, jboss           Remote   \n",
       "4   plsql, oracle, sql, rdbms, database, sysadmin           Remote   \n",
       "\n",
       "              country       location  \\\n",
       "0  Massachusetts, EUA         Boston   \n",
       "1     Califórnia, EUA  San Francisco   \n",
       "2     Califórnia, EUA  San Francisco   \n",
       "3     Califórnia, EUA    Los Angeles   \n",
       "4     Califórnia, EUA    Los Angeles   \n",
       "\n",
       "                                    company company-size company-type  \\\n",
       "0                  Etiometry Inc.\\n                   50      Private   \n",
       "1                   The Real Real\\n                 5000      Private   \n",
       "2               Pear Therapeutics\\n                  200      Private   \n",
       "3  Integrated Data Services (IDS)\\n                  200      Private   \n",
       "4  Integrated Data Services (IDS)\\n                  200      Private   \n",
       "\n",
       "                                         description         experience-level  \\\n",
       "0  \\nWe are currently seeking a Data Scientist to...                Mid-Level   \n",
       "1  \\nThe RealReal is leading the way in authentic...  Mid-Level, Senior, Lead   \n",
       "2  \\nAbout Pear Therapeutics \\nAt Pear, our missi...        Mid-Level, Senior   \n",
       "3  \\nSenior Java Developer\\nLos Angeles, CA; Wash...                   Senior   \n",
       "4  \\nSenior Oracle PLSQL Developer\\nLos Angeles, ...                   Senior   \n",
       "\n",
       "                                            industry   job-type  \\\n",
       "0     Data & Analytics, Healthcare, Medical Software  Full-time   \n",
       "1                         eCommerce, Fashion, Retail  Full-time   \n",
       "2                                      Biotechnology  Full-time   \n",
       "3  Financial Technology, Government, Software Dev...  Full-time   \n",
       "4  Financial Technology, Government, Software Dev...  Full-time   \n",
       "\n",
       "                                                link  \\\n",
       "0          /jobs/199604/data-scientist-etiometry-inc   \n",
       "1  /jobs/199609/senior-platform-developer-backend...   \n",
       "2  /jobs/204842/senior-platform-engineer-pear-the...   \n",
       "3  /jobs/157266/senior-java-developer-integrated-...   \n",
       "4  /jobs/141988/senior-oracle-plsql-developer-int...   \n",
       "\n",
       "                       posted moeda_original                    role  \\\n",
       "0  2019-01-07 19:51:19.033107              -          Data Scientist   \n",
       "1  2019-01-07 21:51:19.064124              -       Backend Developer   \n",
       "2  2019-01-07 21:51:19.095266              -    Full Stack Developer   \n",
       "3  2019-01-07 21:51:19.125580              -    Full Stack Developer   \n",
       "4  2019-01-07 21:51:19.160225              -  Database Administrator   \n",
       "\n",
       "   salary_min  salary_max  salary_mean  \n",
       "0           0           0          0.0  \n",
       "1           0           0          0.0  \n",
       "2           0           0          0.0  \n",
       "3           0           0          0.0  \n",
       "4           0           0          0.0  "
      ]
     },
     "execution_count": 12,
     "metadata": {},
     "output_type": "execute_result"
    }
   ],
   "source": [
    "df_jobs.head()"
   ]
  },
  {
   "cell_type": "code",
   "execution_count": 13,
   "metadata": {
    "collapsed": true
   },
   "outputs": [],
   "source": [
    "df_tags = pd.read_csv('data/jobs_tags.csv')"
   ]
  },
  {
   "cell_type": "code",
   "execution_count": 14,
   "metadata": {
    "collapsed": true
   },
   "outputs": [],
   "source": [
    "vectorizer = None\n",
    "stopwords = None\n",
    "tags = None\n",
    "stemmer = None"
   ]
  },
  {
   "cell_type": "code",
   "execution_count": 15,
   "metadata": {
    "collapsed": true
   },
   "outputs": [],
   "source": [
    "\n",
    "def _processar_texto(texto):\n",
    "    \n",
    "    texto = ' '.join([stemmer.stem(w) for w in nltk.word_tokenize(texto) \n",
    "                          if w not in punctuation and\n",
    "                             w not in stopwords and\n",
    "                            # Remove os números mas mantém as tags que os contém\n",
    "                            not (re.match('.*[\\d_].*', w) and w not in tags)\n",
    "                     ])\n",
    "    return texto\n",
    "\n",
    "def _get_vectorizer():\n",
    "    return TfidfVectorizer(\n",
    "        lowercase=True,\n",
    "        use_idf=True,\n",
    "        max_df=1.0,\n",
    "        #stop_words = 'english'\n",
    "    )\n",
    "\n",
    "def _aplicar_tfidf(palavras = []):\n",
    "    global vectorizer\n",
    "\n",
    "    if not vectorizer:\n",
    "        vectorizer = _get_vectorizer()\n",
    "        vectorizer.fit(palavras)\n",
    "        \n",
    "    matrix_tfidf = vectorizer.transform(palavras)\n",
    "    \n",
    "    return pd.DataFrame(\n",
    "        matrix_tfidf.todense(),\n",
    "        columns=vectorizer.get_feature_names()\n",
    "    )\n",
    "\n",
    "def jobs_similares(search, max_jobs):\n",
    "    search = _processar_texto(search)\n",
    "    search_tfidf = _aplicar_tfidf([search])\n",
    "    \n",
    "    df_tfidf = jobs_tfidf.append(search_tfidf, ignore_index=True)\n",
    "    sim = cosine_similarity(df_tfidf)\n",
    "    index_jobs = pd.Series(sim[-1]).sort_values(ascending=False).index\n",
    "    \n",
    "    return df_jobs.reindex(index_jobs[1:max_jobs+1])\n",
    "    \n",
    "    \n",
    "\n",
    "def _inicializar():\n",
    "    global stopwords, tags, stemmer\n",
    "    \n",
    "    stopwords = '' #nltk.corpus.stopwords.words('english')\n",
    "    tags = df_tags.columns.tolist()\n",
    "    stemmer = nltk.stem.RSLPStemmer()\n",
    "    \n",
    "_inicializar()\n"
   ]
  },
  {
   "cell_type": "code",
   "execution_count": 16,
   "metadata": {
    "collapsed": true
   },
   "outputs": [],
   "source": [
    "df_jobs.fillna('', inplace=True)"
   ]
  },
  {
   "cell_type": "code",
   "execution_count": 17,
   "metadata": {
    "collapsed": true
   },
   "outputs": [],
   "source": [
    "df_jobs['doc'] = df_jobs.apply(lambda row: \n",
    "                               '%s %s %s %s'%(\n",
    "                                   row['description'],\n",
    "                                   row['title'],\n",
    "                                   row['tags'], \n",
    "                                   row['role']\n",
    "                               ),\n",
    "                               axis=1\n",
    "                              )"
   ]
  },
  {
   "cell_type": "code",
   "execution_count": 18,
   "metadata": {},
   "outputs": [
    {
     "data": {
      "text/plain": [
       "'the realre is leading the way in authenticated luxury consignment onlin and in real lif at our brick and mort locatiom founded in we ’ re growing fast and fundamentally changing the way peopl buy and sell luxury — a multi-billion doll industry with a te of in-hous expert who inspect every it we sell our commitment to authenticity set us apart and creat a foundation of trust with shopp and consign '"
      ]
     },
     "execution_count": 18,
     "metadata": {},
     "output_type": "execute_result"
    }
   ],
   "source": [
    "df_jobs['doc'] = df_jobs['doc'].apply(_processar_texto)\n",
    "df_jobs['doc'].iloc[1][:400]"
   ]
  },
  {
   "cell_type": "code",
   "execution_count": null,
   "metadata": {
    "collapsed": true
   },
   "outputs": [],
   "source": [
    "jobs_tfidf = _aplicar_tfidf(df_jobs['doc'])"
   ]
  },
  {
   "cell_type": "code",
   "execution_count": null,
   "metadata": {
    "collapsed": true
   },
   "outputs": [],
   "source": [
    "joblib.dump(vectorizer, 'data/vectorizer_jobs.dat')"
   ]
  },
  {
   "cell_type": "code",
   "execution_count": null,
   "metadata": {
    "collapsed": true
   },
   "outputs": [],
   "source": [
    "jobs_tfidf.to_csv('data/jobs_tfidf.csv', index=False)"
   ]
  },
  {
   "cell_type": "code",
   "execution_count": null,
   "metadata": {
    "collapsed": true
   },
   "outputs": [],
   "source": []
  },
  {
   "cell_type": "code",
   "execution_count": null,
   "metadata": {
    "collapsed": true
   },
   "outputs": [],
   "source": []
  }
 ],
 "metadata": {
  "kernelspec": {
   "display_name": "Python 3",
   "language": "python",
   "name": "python3"
  },
  "language_info": {
   "codemirror_mode": {
    "name": "ipython",
    "version": 3
   },
   "file_extension": ".py",
   "mimetype": "text/x-python",
   "name": "python",
   "nbconvert_exporter": "python",
   "pygments_lexer": "ipython3",
   "version": "3.6.3"
  }
 },
 "nbformat": 4,
 "nbformat_minor": 2
}
